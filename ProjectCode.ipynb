{
 "cells": [
  {
   "cell_type": "code",
   "execution_count": 1,
   "metadata": {
    "id": "AQMFuQoqiIrY"
   },
   "outputs": [],
   "source": [
    "import warnings\n",
    "warnings.filterwarnings('ignore')\n",
    "import numpy as np\n",
    "import pandas as pd\n",
    "from sklearn.preprocessing import MinMaxScaler , RobustScaler ,OneHotEncoder ,LabelEncoder\n",
    "from sklearn.model_selection import train_test_split,cross_val_score\n",
    "from sklearn.linear_model import LogisticRegression\n",
    "from sklearn.metrics import  accuracy_score, f1_score, confusion_matrix, recall_score, roc_auc_score,classification_report ,plot_confusion_matrix\n",
    "from sklearn.ensemble import RandomForestClassifier,AdaBoostClassifier\n",
    "from sklearn.svm import SVC\n",
    "import matplotlib.pyplot as plt\n",
    "%matplotlib inline\n",
    "import seaborn as sb\n",
    "from sklearn.model_selection import GridSearchCV\n",
    "from sklearn.model_selection import cross_val_score\n",
    "import xgboost as xgb\n",
    "from math import ceil\n",
    "from xgboost import plot_tree , plot_importance\n",
    "from sklearn import tree\n",
    "from matplotlib import pyplot"
   ]
  },
  {
   "cell_type": "code",
   "execution_count": 2,
   "metadata": {
    "id": "_i1AMt82eGVf"
   },
   "outputs": [],
   "source": [
    "\n",
    "pd.options.display.float_format = \"{:,.2f}\".format"
   ]
  },
  {
   "cell_type": "code",
   "execution_count": 3,
   "metadata": {
    "id": "jujtSuoWinrX"
   },
   "outputs": [],
   "source": [
    " #! pip install graphviz\n",
    " # ! pip install xgboost"
   ]
  },
  {
   "cell_type": "code",
   "execution_count": 4,
   "metadata": {
    "id": "TLBUBZk-ircX"
   },
   "outputs": [],
   "source": [
    "raw = pd.read_csv('dataset_raw.csv')\n",
    "data= raw.copy()"
   ]
  },
  {
   "cell_type": "code",
   "execution_count": 5,
   "metadata": {
    "colab": {
     "base_uri": "https://localhost:8080/",
     "height": 704
    },
    "executionInfo": {
     "elapsed": 23,
     "status": "ok",
     "timestamp": 1636338256714,
     "user": {
      "displayName": "Haresh",
      "photoUrl": "https://lh3.googleusercontent.com/a-/AOh14GgoXsUrwqrdYieaCTJs4eifEU7OEbL4VqCuKgzY=s64",
      "userId": "03605754073230125307"
     },
     "user_tz": -480
    },
    "id": "zAsTKJVRkozx",
    "outputId": "b8112567-d2f5-4868-83af-2385c657f75b"
   },
   "outputs": [
    {
     "data": {
      "text/html": [
       "<div>\n",
       "<style scoped>\n",
       "    .dataframe tbody tr th:only-of-type {\n",
       "        vertical-align: middle;\n",
       "    }\n",
       "\n",
       "    .dataframe tbody tr th {\n",
       "        vertical-align: top;\n",
       "    }\n",
       "\n",
       "    .dataframe thead th {\n",
       "        text-align: right;\n",
       "    }\n",
       "</style>\n",
       "<table border=\"1\" class=\"dataframe\">\n",
       "  <thead>\n",
       "    <tr style=\"text-align: right;\">\n",
       "      <th></th>\n",
       "      <th>Number</th>\n",
       "      <th>Ticker</th>\n",
       "      <th>sector</th>\n",
       "      <th>city</th>\n",
       "      <th>industry</th>\n",
       "      <th>profitMargins</th>\n",
       "      <th>priceToBook</th>\n",
       "      <th>bookValue</th>\n",
       "      <th>shortRatio</th>\n",
       "      <th>revenuePerShare</th>\n",
       "      <th>...</th>\n",
       "      <th>COVID DEPENDANCY</th>\n",
       "      <th>CLASS</th>\n",
       "      <th>15/3/2020 0:00</th>\n",
       "      <th>10/4/2020 0:00</th>\n",
       "      <th>10/5/2020 0:00</th>\n",
       "      <th>10/9/2020 0:00</th>\n",
       "      <th>1/1/2021 0:00</th>\n",
       "      <th>20/2/2021 0:00</th>\n",
       "      <th>15/5/2021 0:00</th>\n",
       "      <th>10/9/2021 0:00</th>\n",
       "    </tr>\n",
       "  </thead>\n",
       "  <tbody>\n",
       "    <tr>\n",
       "      <th>0</th>\n",
       "      <td>1</td>\n",
       "      <td>AAPL</td>\n",
       "      <td>Technology</td>\n",
       "      <td>Cupertino</td>\n",
       "      <td>Consumer Electronics</td>\n",
       "      <td>0.25</td>\n",
       "      <td>36.81</td>\n",
       "      <td>3.88</td>\n",
       "      <td>1.28</td>\n",
       "      <td>20.61</td>\n",
       "      <td>...</td>\n",
       "      <td>3</td>\n",
       "      <td>0</td>\n",
       "      <td>66.46</td>\n",
       "      <td>66.00</td>\n",
       "      <td>85.25</td>\n",
       "      <td>113.91</td>\n",
       "      <td>129.93</td>\n",
       "      <td>129.92</td>\n",
       "      <td>129.88</td>\n",
       "      <td>153.71</td>\n",
       "    </tr>\n",
       "    <tr>\n",
       "      <th>1</th>\n",
       "      <td>3</td>\n",
       "      <td>ADI</td>\n",
       "      <td>Technology</td>\n",
       "      <td>Wilmington</td>\n",
       "      <td>Semiconductors</td>\n",
       "      <td>0.26</td>\n",
       "      <td>5.11</td>\n",
       "      <td>32.99</td>\n",
       "      <td>2.22</td>\n",
       "      <td>17.63</td>\n",
       "      <td>...</td>\n",
       "      <td>6</td>\n",
       "      <td>1</td>\n",
       "      <td>93.97</td>\n",
       "      <td>98.06</td>\n",
       "      <td>120.81</td>\n",
       "      <td>114.11</td>\n",
       "      <td>147.92</td>\n",
       "      <td>160.27</td>\n",
       "      <td>167.18</td>\n",
       "      <td>166.42</td>\n",
       "    </tr>\n",
       "    <tr>\n",
       "      <th>2</th>\n",
       "      <td>4</td>\n",
       "      <td>ADM</td>\n",
       "      <td>Consumer Defensive</td>\n",
       "      <td>Chicago</td>\n",
       "      <td>Farm Products</td>\n",
       "      <td>0.03</td>\n",
       "      <td>1.70</td>\n",
       "      <td>37.28</td>\n",
       "      <td>1.94</td>\n",
       "      <td>133.43</td>\n",
       "      <td>...</td>\n",
       "      <td>3</td>\n",
       "      <td>0</td>\n",
       "      <td>34.21</td>\n",
       "      <td>36.45</td>\n",
       "      <td>40.93</td>\n",
       "      <td>46.05</td>\n",
       "      <td>51.01</td>\n",
       "      <td>56.15</td>\n",
       "      <td>64.36</td>\n",
       "      <td>59.69</td>\n",
       "    </tr>\n",
       "    <tr>\n",
       "      <th>3</th>\n",
       "      <td>5</td>\n",
       "      <td>ADP</td>\n",
       "      <td>Industrials</td>\n",
       "      <td>Roseland</td>\n",
       "      <td>Staffing &amp; Employment Services</td>\n",
       "      <td>0.17</td>\n",
       "      <td>15.41</td>\n",
       "      <td>13.38</td>\n",
       "      <td>2.53</td>\n",
       "      <td>35.20</td>\n",
       "      <td>...</td>\n",
       "      <td>4</td>\n",
       "      <td>0</td>\n",
       "      <td>139.93</td>\n",
       "      <td>139.42</td>\n",
       "      <td>152.98</td>\n",
       "      <td>134.62</td>\n",
       "      <td>170.39</td>\n",
       "      <td>169.20</td>\n",
       "      <td>198.52</td>\n",
       "      <td>202.84</td>\n",
       "    </tr>\n",
       "    <tr>\n",
       "      <th>4</th>\n",
       "      <td>6</td>\n",
       "      <td>ADSK</td>\n",
       "      <td>Technology</td>\n",
       "      <td>San Rafael</td>\n",
       "      <td>Software—Application</td>\n",
       "      <td>0.33</td>\n",
       "      <td>54.38</td>\n",
       "      <td>5.13</td>\n",
       "      <td>2.06</td>\n",
       "      <td>17.74</td>\n",
       "      <td>...</td>\n",
       "      <td>6</td>\n",
       "      <td>1</td>\n",
       "      <td>152.20</td>\n",
       "      <td>156.28</td>\n",
       "      <td>229.26</td>\n",
       "      <td>228.20</td>\n",
       "      <td>301.69</td>\n",
       "      <td>302.91</td>\n",
       "      <td>276.97</td>\n",
       "      <td>287.28</td>\n",
       "    </tr>\n",
       "    <tr>\n",
       "      <th>...</th>\n",
       "      <td>...</td>\n",
       "      <td>...</td>\n",
       "      <td>...</td>\n",
       "      <td>...</td>\n",
       "      <td>...</td>\n",
       "      <td>...</td>\n",
       "      <td>...</td>\n",
       "      <td>...</td>\n",
       "      <td>...</td>\n",
       "      <td>...</td>\n",
       "      <td>...</td>\n",
       "      <td>...</td>\n",
       "      <td>...</td>\n",
       "      <td>...</td>\n",
       "      <td>...</td>\n",
       "      <td>...</td>\n",
       "      <td>...</td>\n",
       "      <td>...</td>\n",
       "      <td>...</td>\n",
       "      <td>...</td>\n",
       "      <td>...</td>\n",
       "    </tr>\n",
       "    <tr>\n",
       "      <th>391</th>\n",
       "      <td>418</td>\n",
       "      <td>XRX</td>\n",
       "      <td>Technology</td>\n",
       "      <td>Norwalk</td>\n",
       "      <td>Information Technology Services</td>\n",
       "      <td>0.04</td>\n",
       "      <td>0.74</td>\n",
       "      <td>28.26</td>\n",
       "      <td>4.32</td>\n",
       "      <td>36.31</td>\n",
       "      <td>...</td>\n",
       "      <td>5</td>\n",
       "      <td>1</td>\n",
       "      <td>24.87</td>\n",
       "      <td>18.99</td>\n",
       "      <td>17.94</td>\n",
       "      <td>18.84</td>\n",
       "      <td>22.93</td>\n",
       "      <td>23.74</td>\n",
       "      <td>24.50</td>\n",
       "      <td>21.22</td>\n",
       "    </tr>\n",
       "    <tr>\n",
       "      <th>392</th>\n",
       "      <td>419</td>\n",
       "      <td>XYL</td>\n",
       "      <td>Industrials</td>\n",
       "      <td>Rye Brook</td>\n",
       "      <td>Specialty Industrial Machinery</td>\n",
       "      <td>0.07</td>\n",
       "      <td>7.44</td>\n",
       "      <td>16.32</td>\n",
       "      <td>4.88</td>\n",
       "      <td>28.86</td>\n",
       "      <td>...</td>\n",
       "      <td>3</td>\n",
       "      <td>0</td>\n",
       "      <td>70.40</td>\n",
       "      <td>67.45</td>\n",
       "      <td>67.81</td>\n",
       "      <td>82.83</td>\n",
       "      <td>101.20</td>\n",
       "      <td>98.64</td>\n",
       "      <td>116.59</td>\n",
       "      <td>134.76</td>\n",
       "    </tr>\n",
       "    <tr>\n",
       "      <th>393</th>\n",
       "      <td>421</td>\n",
       "      <td>ZBH</td>\n",
       "      <td>Healthcare</td>\n",
       "      <td>Warsaw</td>\n",
       "      <td>Medical Devices</td>\n",
       "      <td>0.12</td>\n",
       "      <td>2.46</td>\n",
       "      <td>59.72</td>\n",
       "      <td>2.10</td>\n",
       "      <td>37.95</td>\n",
       "      <td>...</td>\n",
       "      <td>3</td>\n",
       "      <td>0</td>\n",
       "      <td>104.27</td>\n",
       "      <td>105.37</td>\n",
       "      <td>130.25</td>\n",
       "      <td>139.09</td>\n",
       "      <td>155.83</td>\n",
       "      <td>158.55</td>\n",
       "      <td>158.52</td>\n",
       "      <td>144.72</td>\n",
       "    </tr>\n",
       "    <tr>\n",
       "      <th>394</th>\n",
       "      <td>422</td>\n",
       "      <td>ZION</td>\n",
       "      <td>Financial Services</td>\n",
       "      <td>Salt Lake City</td>\n",
       "      <td>Banks—Regional</td>\n",
       "      <td>0.35</td>\n",
       "      <td>1.41</td>\n",
       "      <td>44.98</td>\n",
       "      <td>3.92</td>\n",
       "      <td>19.58</td>\n",
       "      <td>...</td>\n",
       "      <td>7</td>\n",
       "      <td>1</td>\n",
       "      <td>29.15</td>\n",
       "      <td>28.85</td>\n",
       "      <td>37.04</td>\n",
       "      <td>31.74</td>\n",
       "      <td>44.62</td>\n",
       "      <td>51.41</td>\n",
       "      <td>54.11</td>\n",
       "      <td>57.24</td>\n",
       "    </tr>\n",
       "    <tr>\n",
       "      <th>395</th>\n",
       "      <td>423</td>\n",
       "      <td>ZTS</td>\n",
       "      <td>Healthcare</td>\n",
       "      <td>Parsippany</td>\n",
       "      <td>Drug Manufacturers—Specialty &amp; Generic</td>\n",
       "      <td>0.26</td>\n",
       "      <td>22.99</td>\n",
       "      <td>8.61</td>\n",
       "      <td>3.03</td>\n",
       "      <td>15.59</td>\n",
       "      <td>...</td>\n",
       "      <td>2</td>\n",
       "      <td>0</td>\n",
       "      <td>123.16</td>\n",
       "      <td>127.23</td>\n",
       "      <td>137.03</td>\n",
       "      <td>157.28</td>\n",
       "      <td>165.24</td>\n",
       "      <td>164.67</td>\n",
       "      <td>184.60</td>\n",
       "      <td>207.54</td>\n",
       "    </tr>\n",
       "  </tbody>\n",
       "</table>\n",
       "<p>396 rows × 36 columns</p>\n",
       "</div>"
      ],
      "text/plain": [
       "     Number Ticker              sector            city  \\\n",
       "0         1   AAPL          Technology       Cupertino   \n",
       "1         3    ADI          Technology      Wilmington   \n",
       "2         4    ADM  Consumer Defensive         Chicago   \n",
       "3         5    ADP         Industrials        Roseland   \n",
       "4         6   ADSK          Technology      San Rafael   \n",
       "..      ...    ...                 ...             ...   \n",
       "391     418    XRX          Technology         Norwalk   \n",
       "392     419    XYL         Industrials       Rye Brook   \n",
       "393     421    ZBH          Healthcare          Warsaw   \n",
       "394     422   ZION  Financial Services  Salt Lake City   \n",
       "395     423    ZTS          Healthcare      Parsippany   \n",
       "\n",
       "                                   industry  profitMargins  priceToBook  \\\n",
       "0                      Consumer Electronics           0.25        36.81   \n",
       "1                            Semiconductors           0.26         5.11   \n",
       "2                             Farm Products           0.03         1.70   \n",
       "3            Staffing & Employment Services           0.17        15.41   \n",
       "4                      Software—Application           0.33        54.38   \n",
       "..                                      ...            ...          ...   \n",
       "391         Information Technology Services           0.04         0.74   \n",
       "392          Specialty Industrial Machinery           0.07         7.44   \n",
       "393                         Medical Devices           0.12         2.46   \n",
       "394                          Banks—Regional           0.35         1.41   \n",
       "395  Drug Manufacturers—Specialty & Generic           0.26        22.99   \n",
       "\n",
       "     bookValue  shortRatio  revenuePerShare  ...  COVID DEPENDANCY  CLASS  \\\n",
       "0         3.88        1.28            20.61  ...                 3      0   \n",
       "1        32.99        2.22            17.63  ...                 6      1   \n",
       "2        37.28        1.94           133.43  ...                 3      0   \n",
       "3        13.38        2.53            35.20  ...                 4      0   \n",
       "4         5.13        2.06            17.74  ...                 6      1   \n",
       "..         ...         ...              ...  ...               ...    ...   \n",
       "391      28.26        4.32            36.31  ...                 5      1   \n",
       "392      16.32        4.88            28.86  ...                 3      0   \n",
       "393      59.72        2.10            37.95  ...                 3      0   \n",
       "394      44.98        3.92            19.58  ...                 7      1   \n",
       "395       8.61        3.03            15.59  ...                 2      0   \n",
       "\n",
       "     15/3/2020 0:00  10/4/2020 0:00  10/5/2020 0:00  10/9/2020 0:00  \\\n",
       "0             66.46           66.00           85.25          113.91   \n",
       "1             93.97           98.06          120.81          114.11   \n",
       "2             34.21           36.45           40.93           46.05   \n",
       "3            139.93          139.42          152.98          134.62   \n",
       "4            152.20          156.28          229.26          228.20   \n",
       "..              ...             ...             ...             ...   \n",
       "391           24.87           18.99           17.94           18.84   \n",
       "392           70.40           67.45           67.81           82.83   \n",
       "393          104.27          105.37          130.25          139.09   \n",
       "394           29.15           28.85           37.04           31.74   \n",
       "395          123.16          127.23          137.03          157.28   \n",
       "\n",
       "     1/1/2021 0:00  20/2/2021 0:00  15/5/2021 0:00  10/9/2021 0:00  \n",
       "0           129.93          129.92          129.88          153.71  \n",
       "1           147.92          160.27          167.18          166.42  \n",
       "2            51.01           56.15           64.36           59.69  \n",
       "3           170.39          169.20          198.52          202.84  \n",
       "4           301.69          302.91          276.97          287.28  \n",
       "..             ...             ...             ...             ...  \n",
       "391          22.93           23.74           24.50           21.22  \n",
       "392         101.20           98.64          116.59          134.76  \n",
       "393         155.83          158.55          158.52          144.72  \n",
       "394          44.62           51.41           54.11           57.24  \n",
       "395         165.24          164.67          184.60          207.54  \n",
       "\n",
       "[396 rows x 36 columns]"
      ]
     },
     "execution_count": 5,
     "metadata": {},
     "output_type": "execute_result"
    }
   ],
   "source": [
    "data"
   ]
  },
  {
   "cell_type": "markdown",
   "metadata": {
    "id": "3MAoS6eckLwJ"
   },
   "source": [
    "# Data Cleaning\n"
   ]
  },
  {
   "cell_type": "code",
   "execution_count": 6,
   "metadata": {
    "id": "zZOgWXjzkjmg"
   },
   "outputs": [],
   "source": [
    "\n",
    "data.drop('Number',axis=1,inplace=True)"
   ]
  },
  {
   "cell_type": "code",
   "execution_count": 7,
   "metadata": {
    "id": "pq9i33ixk3hf"
   },
   "outputs": [],
   "source": [
    "data.set_index('Ticker',inplace=True)"
   ]
  },
  {
   "cell_type": "code",
   "execution_count": 8,
   "metadata": {
    "colab": {
     "base_uri": "https://localhost:8080/",
     "height": 735
    },
    "executionInfo": {
     "elapsed": 18,
     "status": "ok",
     "timestamp": 1636338256716,
     "user": {
      "displayName": "Haresh",
      "photoUrl": "https://lh3.googleusercontent.com/a-/AOh14GgoXsUrwqrdYieaCTJs4eifEU7OEbL4VqCuKgzY=s64",
      "userId": "03605754073230125307"
     },
     "user_tz": -480
    },
    "id": "rfoyXP75k75j",
    "outputId": "7f9a76db-0d32-4cf7-c4de-1eb3cb4b5835"
   },
   "outputs": [
    {
     "data": {
      "text/html": [
       "<div>\n",
       "<style scoped>\n",
       "    .dataframe tbody tr th:only-of-type {\n",
       "        vertical-align: middle;\n",
       "    }\n",
       "\n",
       "    .dataframe tbody tr th {\n",
       "        vertical-align: top;\n",
       "    }\n",
       "\n",
       "    .dataframe thead th {\n",
       "        text-align: right;\n",
       "    }\n",
       "</style>\n",
       "<table border=\"1\" class=\"dataframe\">\n",
       "  <thead>\n",
       "    <tr style=\"text-align: right;\">\n",
       "      <th></th>\n",
       "      <th>sector</th>\n",
       "      <th>city</th>\n",
       "      <th>industry</th>\n",
       "      <th>profitMargins</th>\n",
       "      <th>priceToBook</th>\n",
       "      <th>bookValue</th>\n",
       "      <th>shortRatio</th>\n",
       "      <th>revenuePerShare</th>\n",
       "      <th>operatingMargins</th>\n",
       "      <th>forwardEps</th>\n",
       "      <th>...</th>\n",
       "      <th>COVID DEPENDANCY</th>\n",
       "      <th>CLASS</th>\n",
       "      <th>15/3/2020 0:00</th>\n",
       "      <th>10/4/2020 0:00</th>\n",
       "      <th>10/5/2020 0:00</th>\n",
       "      <th>10/9/2020 0:00</th>\n",
       "      <th>1/1/2021 0:00</th>\n",
       "      <th>20/2/2021 0:00</th>\n",
       "      <th>15/5/2021 0:00</th>\n",
       "      <th>10/9/2021 0:00</th>\n",
       "    </tr>\n",
       "    <tr>\n",
       "      <th>Ticker</th>\n",
       "      <th></th>\n",
       "      <th></th>\n",
       "      <th></th>\n",
       "      <th></th>\n",
       "      <th></th>\n",
       "      <th></th>\n",
       "      <th></th>\n",
       "      <th></th>\n",
       "      <th></th>\n",
       "      <th></th>\n",
       "      <th></th>\n",
       "      <th></th>\n",
       "      <th></th>\n",
       "      <th></th>\n",
       "      <th></th>\n",
       "      <th></th>\n",
       "      <th></th>\n",
       "      <th></th>\n",
       "      <th></th>\n",
       "      <th></th>\n",
       "      <th></th>\n",
       "    </tr>\n",
       "  </thead>\n",
       "  <tbody>\n",
       "    <tr>\n",
       "      <th>AAPL</th>\n",
       "      <td>Technology</td>\n",
       "      <td>Cupertino</td>\n",
       "      <td>Consumer Electronics</td>\n",
       "      <td>0.25</td>\n",
       "      <td>36.81</td>\n",
       "      <td>3.88</td>\n",
       "      <td>1.28</td>\n",
       "      <td>20.61</td>\n",
       "      <td>0.29</td>\n",
       "      <td>5.68</td>\n",
       "      <td>...</td>\n",
       "      <td>3</td>\n",
       "      <td>0</td>\n",
       "      <td>66.46</td>\n",
       "      <td>66.00</td>\n",
       "      <td>85.25</td>\n",
       "      <td>113.91</td>\n",
       "      <td>129.93</td>\n",
       "      <td>129.92</td>\n",
       "      <td>129.88</td>\n",
       "      <td>153.71</td>\n",
       "    </tr>\n",
       "    <tr>\n",
       "      <th>ADI</th>\n",
       "      <td>Technology</td>\n",
       "      <td>Wilmington</td>\n",
       "      <td>Semiconductors</td>\n",
       "      <td>0.26</td>\n",
       "      <td>5.11</td>\n",
       "      <td>32.99</td>\n",
       "      <td>2.22</td>\n",
       "      <td>17.63</td>\n",
       "      <td>0.33</td>\n",
       "      <td>6.96</td>\n",
       "      <td>...</td>\n",
       "      <td>6</td>\n",
       "      <td>1</td>\n",
       "      <td>93.97</td>\n",
       "      <td>98.06</td>\n",
       "      <td>120.81</td>\n",
       "      <td>114.11</td>\n",
       "      <td>147.92</td>\n",
       "      <td>160.27</td>\n",
       "      <td>167.18</td>\n",
       "      <td>166.42</td>\n",
       "    </tr>\n",
       "    <tr>\n",
       "      <th>ADM</th>\n",
       "      <td>Consumer Defensive</td>\n",
       "      <td>Chicago</td>\n",
       "      <td>Farm Products</td>\n",
       "      <td>0.03</td>\n",
       "      <td>1.70</td>\n",
       "      <td>37.28</td>\n",
       "      <td>1.94</td>\n",
       "      <td>133.43</td>\n",
       "      <td>0.04</td>\n",
       "      <td>4.45</td>\n",
       "      <td>...</td>\n",
       "      <td>3</td>\n",
       "      <td>0</td>\n",
       "      <td>34.21</td>\n",
       "      <td>36.45</td>\n",
       "      <td>40.93</td>\n",
       "      <td>46.05</td>\n",
       "      <td>51.01</td>\n",
       "      <td>56.15</td>\n",
       "      <td>64.36</td>\n",
       "      <td>59.69</td>\n",
       "    </tr>\n",
       "    <tr>\n",
       "      <th>ADP</th>\n",
       "      <td>Industrials</td>\n",
       "      <td>Roseland</td>\n",
       "      <td>Staffing &amp; Employment Services</td>\n",
       "      <td>0.17</td>\n",
       "      <td>15.41</td>\n",
       "      <td>13.38</td>\n",
       "      <td>2.53</td>\n",
       "      <td>35.20</td>\n",
       "      <td>0.22</td>\n",
       "      <td>7.30</td>\n",
       "      <td>...</td>\n",
       "      <td>4</td>\n",
       "      <td>0</td>\n",
       "      <td>139.93</td>\n",
       "      <td>139.42</td>\n",
       "      <td>152.98</td>\n",
       "      <td>134.62</td>\n",
       "      <td>170.39</td>\n",
       "      <td>169.20</td>\n",
       "      <td>198.52</td>\n",
       "      <td>202.84</td>\n",
       "    </tr>\n",
       "    <tr>\n",
       "      <th>ADSK</th>\n",
       "      <td>Technology</td>\n",
       "      <td>San Rafael</td>\n",
       "      <td>Software—Application</td>\n",
       "      <td>0.33</td>\n",
       "      <td>54.38</td>\n",
       "      <td>5.13</td>\n",
       "      <td>2.06</td>\n",
       "      <td>17.74</td>\n",
       "      <td>0.17</td>\n",
       "      <td>6.87</td>\n",
       "      <td>...</td>\n",
       "      <td>6</td>\n",
       "      <td>1</td>\n",
       "      <td>152.20</td>\n",
       "      <td>156.28</td>\n",
       "      <td>229.26</td>\n",
       "      <td>228.20</td>\n",
       "      <td>301.69</td>\n",
       "      <td>302.91</td>\n",
       "      <td>276.97</td>\n",
       "      <td>287.28</td>\n",
       "    </tr>\n",
       "    <tr>\n",
       "      <th>...</th>\n",
       "      <td>...</td>\n",
       "      <td>...</td>\n",
       "      <td>...</td>\n",
       "      <td>...</td>\n",
       "      <td>...</td>\n",
       "      <td>...</td>\n",
       "      <td>...</td>\n",
       "      <td>...</td>\n",
       "      <td>...</td>\n",
       "      <td>...</td>\n",
       "      <td>...</td>\n",
       "      <td>...</td>\n",
       "      <td>...</td>\n",
       "      <td>...</td>\n",
       "      <td>...</td>\n",
       "      <td>...</td>\n",
       "      <td>...</td>\n",
       "      <td>...</td>\n",
       "      <td>...</td>\n",
       "      <td>...</td>\n",
       "      <td>...</td>\n",
       "    </tr>\n",
       "    <tr>\n",
       "      <th>XRX</th>\n",
       "      <td>Technology</td>\n",
       "      <td>Norwalk</td>\n",
       "      <td>Information Technology Services</td>\n",
       "      <td>0.04</td>\n",
       "      <td>0.74</td>\n",
       "      <td>28.26</td>\n",
       "      <td>4.32</td>\n",
       "      <td>36.31</td>\n",
       "      <td>0.07</td>\n",
       "      <td>2.22</td>\n",
       "      <td>...</td>\n",
       "      <td>5</td>\n",
       "      <td>1</td>\n",
       "      <td>24.87</td>\n",
       "      <td>18.99</td>\n",
       "      <td>17.94</td>\n",
       "      <td>18.84</td>\n",
       "      <td>22.93</td>\n",
       "      <td>23.74</td>\n",
       "      <td>24.50</td>\n",
       "      <td>21.22</td>\n",
       "    </tr>\n",
       "    <tr>\n",
       "      <th>XYL</th>\n",
       "      <td>Industrials</td>\n",
       "      <td>Rye Brook</td>\n",
       "      <td>Specialty Industrial Machinery</td>\n",
       "      <td>0.07</td>\n",
       "      <td>7.44</td>\n",
       "      <td>16.32</td>\n",
       "      <td>4.88</td>\n",
       "      <td>28.86</td>\n",
       "      <td>0.12</td>\n",
       "      <td>3.28</td>\n",
       "      <td>...</td>\n",
       "      <td>3</td>\n",
       "      <td>0</td>\n",
       "      <td>70.40</td>\n",
       "      <td>67.45</td>\n",
       "      <td>67.81</td>\n",
       "      <td>82.83</td>\n",
       "      <td>101.20</td>\n",
       "      <td>98.64</td>\n",
       "      <td>116.59</td>\n",
       "      <td>134.76</td>\n",
       "    </tr>\n",
       "    <tr>\n",
       "      <th>ZBH</th>\n",
       "      <td>Healthcare</td>\n",
       "      <td>Warsaw</td>\n",
       "      <td>Medical Devices</td>\n",
       "      <td>0.12</td>\n",
       "      <td>2.46</td>\n",
       "      <td>59.72</td>\n",
       "      <td>2.10</td>\n",
       "      <td>37.95</td>\n",
       "      <td>0.17</td>\n",
       "      <td>8.77</td>\n",
       "      <td>...</td>\n",
       "      <td>3</td>\n",
       "      <td>0</td>\n",
       "      <td>104.27</td>\n",
       "      <td>105.37</td>\n",
       "      <td>130.25</td>\n",
       "      <td>139.09</td>\n",
       "      <td>155.83</td>\n",
       "      <td>158.55</td>\n",
       "      <td>158.52</td>\n",
       "      <td>144.72</td>\n",
       "    </tr>\n",
       "    <tr>\n",
       "      <th>ZION</th>\n",
       "      <td>Financial Services</td>\n",
       "      <td>Salt Lake City</td>\n",
       "      <td>Banks—Regional</td>\n",
       "      <td>0.35</td>\n",
       "      <td>1.41</td>\n",
       "      <td>44.98</td>\n",
       "      <td>3.92</td>\n",
       "      <td>19.58</td>\n",
       "      <td>0.47</td>\n",
       "      <td>4.34</td>\n",
       "      <td>...</td>\n",
       "      <td>7</td>\n",
       "      <td>1</td>\n",
       "      <td>29.15</td>\n",
       "      <td>28.85</td>\n",
       "      <td>37.04</td>\n",
       "      <td>31.74</td>\n",
       "      <td>44.62</td>\n",
       "      <td>51.41</td>\n",
       "      <td>54.11</td>\n",
       "      <td>57.24</td>\n",
       "    </tr>\n",
       "    <tr>\n",
       "      <th>ZTS</th>\n",
       "      <td>Healthcare</td>\n",
       "      <td>Parsippany</td>\n",
       "      <td>Drug Manufacturers—Specialty &amp; Generic</td>\n",
       "      <td>0.26</td>\n",
       "      <td>22.99</td>\n",
       "      <td>8.61</td>\n",
       "      <td>3.03</td>\n",
       "      <td>15.59</td>\n",
       "      <td>0.36</td>\n",
       "      <td>5.07</td>\n",
       "      <td>...</td>\n",
       "      <td>2</td>\n",
       "      <td>0</td>\n",
       "      <td>123.16</td>\n",
       "      <td>127.23</td>\n",
       "      <td>137.03</td>\n",
       "      <td>157.28</td>\n",
       "      <td>165.24</td>\n",
       "      <td>164.67</td>\n",
       "      <td>184.60</td>\n",
       "      <td>207.54</td>\n",
       "    </tr>\n",
       "  </tbody>\n",
       "</table>\n",
       "<p>396 rows × 34 columns</p>\n",
       "</div>"
      ],
      "text/plain": [
       "                    sector            city  \\\n",
       "Ticker                                       \n",
       "AAPL            Technology       Cupertino   \n",
       "ADI             Technology      Wilmington   \n",
       "ADM     Consumer Defensive         Chicago   \n",
       "ADP            Industrials        Roseland   \n",
       "ADSK            Technology      San Rafael   \n",
       "...                    ...             ...   \n",
       "XRX             Technology         Norwalk   \n",
       "XYL            Industrials       Rye Brook   \n",
       "ZBH             Healthcare          Warsaw   \n",
       "ZION    Financial Services  Salt Lake City   \n",
       "ZTS             Healthcare      Parsippany   \n",
       "\n",
       "                                      industry  profitMargins  priceToBook  \\\n",
       "Ticker                                                                       \n",
       "AAPL                      Consumer Electronics           0.25        36.81   \n",
       "ADI                             Semiconductors           0.26         5.11   \n",
       "ADM                              Farm Products           0.03         1.70   \n",
       "ADP             Staffing & Employment Services           0.17        15.41   \n",
       "ADSK                      Software—Application           0.33        54.38   \n",
       "...                                        ...            ...          ...   \n",
       "XRX            Information Technology Services           0.04         0.74   \n",
       "XYL             Specialty Industrial Machinery           0.07         7.44   \n",
       "ZBH                            Medical Devices           0.12         2.46   \n",
       "ZION                            Banks—Regional           0.35         1.41   \n",
       "ZTS     Drug Manufacturers—Specialty & Generic           0.26        22.99   \n",
       "\n",
       "        bookValue  shortRatio  revenuePerShare  operatingMargins  forwardEps  \\\n",
       "Ticker                                                                         \n",
       "AAPL         3.88        1.28            20.61              0.29        5.68   \n",
       "ADI         32.99        2.22            17.63              0.33        6.96   \n",
       "ADM         37.28        1.94           133.43              0.04        4.45   \n",
       "ADP         13.38        2.53            35.20              0.22        7.30   \n",
       "ADSK         5.13        2.06            17.74              0.17        6.87   \n",
       "...           ...         ...              ...               ...         ...   \n",
       "XRX         28.26        4.32            36.31              0.07        2.22   \n",
       "XYL         16.32        4.88            28.86              0.12        3.28   \n",
       "ZBH         59.72        2.10            37.95              0.17        8.77   \n",
       "ZION        44.98        3.92            19.58              0.47        4.34   \n",
       "ZTS          8.61        3.03            15.59              0.36        5.07   \n",
       "\n",
       "        ...  COVID DEPENDANCY  CLASS  15/3/2020 0:00  10/4/2020 0:00  \\\n",
       "Ticker  ...                                                            \n",
       "AAPL    ...                 3      0           66.46           66.00   \n",
       "ADI     ...                 6      1           93.97           98.06   \n",
       "ADM     ...                 3      0           34.21           36.45   \n",
       "ADP     ...                 4      0          139.93          139.42   \n",
       "ADSK    ...                 6      1          152.20          156.28   \n",
       "...     ...               ...    ...             ...             ...   \n",
       "XRX     ...                 5      1           24.87           18.99   \n",
       "XYL     ...                 3      0           70.40           67.45   \n",
       "ZBH     ...                 3      0          104.27          105.37   \n",
       "ZION    ...                 7      1           29.15           28.85   \n",
       "ZTS     ...                 2      0          123.16          127.23   \n",
       "\n",
       "        10/5/2020 0:00  10/9/2020 0:00  1/1/2021 0:00  20/2/2021 0:00  \\\n",
       "Ticker                                                                  \n",
       "AAPL             85.25          113.91         129.93          129.92   \n",
       "ADI             120.81          114.11         147.92          160.27   \n",
       "ADM              40.93           46.05          51.01           56.15   \n",
       "ADP             152.98          134.62         170.39          169.20   \n",
       "ADSK            229.26          228.20         301.69          302.91   \n",
       "...                ...             ...            ...             ...   \n",
       "XRX              17.94           18.84          22.93           23.74   \n",
       "XYL              67.81           82.83         101.20           98.64   \n",
       "ZBH             130.25          139.09         155.83          158.55   \n",
       "ZION             37.04           31.74          44.62           51.41   \n",
       "ZTS             137.03          157.28         165.24          164.67   \n",
       "\n",
       "        15/5/2021 0:00  10/9/2021 0:00  \n",
       "Ticker                                  \n",
       "AAPL            129.88          153.71  \n",
       "ADI             167.18          166.42  \n",
       "ADM              64.36           59.69  \n",
       "ADP             198.52          202.84  \n",
       "ADSK            276.97          287.28  \n",
       "...                ...             ...  \n",
       "XRX              24.50           21.22  \n",
       "XYL             116.59          134.76  \n",
       "ZBH             158.52          144.72  \n",
       "ZION             54.11           57.24  \n",
       "ZTS             184.60          207.54  \n",
       "\n",
       "[396 rows x 34 columns]"
      ]
     },
     "execution_count": 8,
     "metadata": {},
     "output_type": "execute_result"
    }
   ],
   "source": [
    "data"
   ]
  },
  {
   "cell_type": "markdown",
   "metadata": {
    "id": "o3QfWsLMlOiz"
   },
   "source": [
    "## droping duplicate columns"
   ]
  },
  {
   "cell_type": "code",
   "execution_count": 9,
   "metadata": {
    "id": "9xo-quHwk8rq"
   },
   "outputs": [],
   "source": [
    "data.drop(['profitMargins.1','volume.1'],axis=1, inplace=True)"
   ]
  },
  {
   "cell_type": "code",
   "execution_count": 10,
   "metadata": {
    "id": "fEqtA02OlKlo"
   },
   "outputs": [],
   "source": [
    "data.drop(['COVID DEPENDANCY'],axis=1,inplace=True)"
   ]
  },
  {
   "cell_type": "markdown",
   "metadata": {
    "id": "WhZVl5o_leuE"
   },
   "source": [
    "# Data Preprocessing"
   ]
  },
  {
   "cell_type": "code",
   "execution_count": 11,
   "metadata": {
    "id": "EIwBz2EIlih7"
   },
   "outputs": [],
   "source": [
    "OH_encoder =OneHotEncoder(handle_unknown='ignore', sparse=False)\n"
   ]
  },
  {
   "cell_type": "code",
   "execution_count": 12,
   "metadata": {
    "colab": {
     "base_uri": "https://localhost:8080/"
    },
    "executionInfo": {
     "elapsed": 7,
     "status": "ok",
     "timestamp": 1636333638554,
     "user": {
      "displayName": "Haresh",
      "photoUrl": "https://lh3.googleusercontent.com/a-/AOh14GgoXsUrwqrdYieaCTJs4eifEU7OEbL4VqCuKgzY=s64",
      "userId": "03605754073230125307"
     },
     "user_tz": -480
    },
    "id": "P-ny4XrjSUHL",
    "outputId": "5c5f1bc1-1808-46b0-a838-d35ef3ec3927"
   },
   "outputs": [
    {
     "data": {
      "text/plain": [
       "OneHotEncoder(handle_unknown='ignore', sparse=False)"
      ]
     },
     "execution_count": 12,
     "metadata": {},
     "output_type": "execute_result"
    }
   ],
   "source": [
    "OH_encoder.fit(data['sector'].values.reshape(-1,1))"
   ]
  },
  {
   "cell_type": "code",
   "execution_count": null,
   "metadata": {
    "id": "DsY9P1XFmkax"
   },
   "outputs": [],
   "source": []
  },
  {
   "cell_type": "code",
   "execution_count": 13,
   "metadata": {
    "id": "bz_XB_tqmI73"
   },
   "outputs": [],
   "source": [
    "names = OH_encoder.get_feature_names(['sector'])"
   ]
  },
  {
   "cell_type": "code",
   "execution_count": 14,
   "metadata": {
    "id": "S6-Cd4N2mQxH"
   },
   "outputs": [],
   "source": [
    "\n",
    "data[names]=OH_encoder.transform(data['sector'].values.reshape(-1,1))"
   ]
  },
  {
   "cell_type": "code",
   "execution_count": 15,
   "metadata": {
    "colab": {
     "base_uri": "https://localhost:8080/"
    },
    "executionInfo": {
     "elapsed": 7,
     "status": "ok",
     "timestamp": 1636333641309,
     "user": {
      "displayName": "Haresh",
      "photoUrl": "https://lh3.googleusercontent.com/a-/AOh14GgoXsUrwqrdYieaCTJs4eifEU7OEbL4VqCuKgzY=s64",
      "userId": "03605754073230125307"
     },
     "user_tz": -480
    },
    "id": "1kcku9rEmZXy",
    "outputId": "e651a94d-7f2f-48e7-c552-6a1406c3767c"
   },
   "outputs": [
    {
     "data": {
      "text/plain": [
       "Index(['sector', 'city', 'industry', 'profitMargins', 'priceToBook',\n",
       "       'bookValue', 'shortRatio', 'revenuePerShare', 'operatingMargins',\n",
       "       'forwardEps', 'heldPercentInstitutions', 'heldPercentInsiders',\n",
       "       'marketCap', 'volume', 'totalDebt', 'totalCash', 'beta',\n",
       "       'totalCashPerShare', 'enterpriseValue', 'floatShares',\n",
       "       'numberOfAnalystOpinions', 'COVID BEHAVIOUR', 'CLASS', '15/3/2020 0:00',\n",
       "       '10/4/2020 0:00', '10/5/2020 0:00', '10/9/2020 0:00', '1/1/2021 0:00',\n",
       "       '20/2/2021 0:00', '15/5/2021 0:00', '10/9/2021 0:00',\n",
       "       'sector_Basic Materials', 'sector_Communication Services',\n",
       "       'sector_Consumer Cyclical', 'sector_Consumer Defensive',\n",
       "       'sector_Energy', 'sector_Financial Services', 'sector_Healthcare',\n",
       "       'sector_Industrials', 'sector_Real Estate', 'sector_Technology',\n",
       "       'sector_Utilities'],\n",
       "      dtype='object')"
      ]
     },
     "execution_count": 15,
     "metadata": {},
     "output_type": "execute_result"
    }
   ],
   "source": [
    "data.columns"
   ]
  },
  {
   "cell_type": "code",
   "execution_count": 16,
   "metadata": {
    "colab": {
     "base_uri": "https://localhost:8080/"
    },
    "executionInfo": {
     "elapsed": 6,
     "status": "ok",
     "timestamp": 1636333641310,
     "user": {
      "displayName": "Haresh",
      "photoUrl": "https://lh3.googleusercontent.com/a-/AOh14GgoXsUrwqrdYieaCTJs4eifEU7OEbL4VqCuKgzY=s64",
      "userId": "03605754073230125307"
     },
     "user_tz": -480
    },
    "id": "PWTOcL1Tmr88",
    "outputId": "0e1e3ada-120a-4314-8dd8-67baa478377e",
    "scrolled": true
   },
   "outputs": [
    {
     "data": {
      "text/plain": [
       "array(['sector_Basic Materials', 'sector_Communication Services',\n",
       "       'sector_Consumer Cyclical', 'sector_Consumer Defensive',\n",
       "       'sector_Energy', 'sector_Financial Services', 'sector_Healthcare',\n",
       "       'sector_Industrials', 'sector_Real Estate', 'sector_Technology',\n",
       "       'sector_Utilities'], dtype=object)"
      ]
     },
     "execution_count": 16,
     "metadata": {},
     "output_type": "execute_result"
    }
   ],
   "source": [
    "names"
   ]
  },
  {
   "cell_type": "markdown",
   "metadata": {},
   "source": [
    "# Exploratory Data Analysis"
   ]
  },
  {
   "cell_type": "code",
   "execution_count": 17,
   "metadata": {},
   "outputs": [
    {
     "data": {
      "text/html": [
       "<div>\n",
       "<style scoped>\n",
       "    .dataframe tbody tr th:only-of-type {\n",
       "        vertical-align: middle;\n",
       "    }\n",
       "\n",
       "    .dataframe tbody tr th {\n",
       "        vertical-align: top;\n",
       "    }\n",
       "\n",
       "    .dataframe thead th {\n",
       "        text-align: right;\n",
       "    }\n",
       "</style>\n",
       "<table border=\"1\" class=\"dataframe\">\n",
       "  <thead>\n",
       "    <tr style=\"text-align: right;\">\n",
       "      <th></th>\n",
       "      <th>profitMargins</th>\n",
       "      <th>priceToBook</th>\n",
       "      <th>bookValue</th>\n",
       "      <th>shortRatio</th>\n",
       "      <th>revenuePerShare</th>\n",
       "      <th>operatingMargins</th>\n",
       "      <th>forwardEps</th>\n",
       "      <th>heldPercentInstitutions</th>\n",
       "      <th>heldPercentInsiders</th>\n",
       "      <th>marketCap</th>\n",
       "      <th>...</th>\n",
       "      <th>sector_Communication Services</th>\n",
       "      <th>sector_Consumer Cyclical</th>\n",
       "      <th>sector_Consumer Defensive</th>\n",
       "      <th>sector_Energy</th>\n",
       "      <th>sector_Financial Services</th>\n",
       "      <th>sector_Healthcare</th>\n",
       "      <th>sector_Industrials</th>\n",
       "      <th>sector_Real Estate</th>\n",
       "      <th>sector_Technology</th>\n",
       "      <th>sector_Utilities</th>\n",
       "    </tr>\n",
       "  </thead>\n",
       "  <tbody>\n",
       "    <tr>\n",
       "      <th>count</th>\n",
       "      <td>396.00</td>\n",
       "      <td>396.00</td>\n",
       "      <td>396.00</td>\n",
       "      <td>396.00</td>\n",
       "      <td>396.00</td>\n",
       "      <td>396.00</td>\n",
       "      <td>396.00</td>\n",
       "      <td>396.00</td>\n",
       "      <td>396.00</td>\n",
       "      <td>396.00</td>\n",
       "      <td>...</td>\n",
       "      <td>396.00</td>\n",
       "      <td>396.00</td>\n",
       "      <td>396.00</td>\n",
       "      <td>396.00</td>\n",
       "      <td>396.00</td>\n",
       "      <td>396.00</td>\n",
       "      <td>396.00</td>\n",
       "      <td>396.00</td>\n",
       "      <td>396.00</td>\n",
       "      <td>396.00</td>\n",
       "    </tr>\n",
       "    <tr>\n",
       "      <th>mean</th>\n",
       "      <td>0.12</td>\n",
       "      <td>11.05</td>\n",
       "      <td>34.03</td>\n",
       "      <td>3.63</td>\n",
       "      <td>56.29</td>\n",
       "      <td>-0.13</td>\n",
       "      <td>7.15</td>\n",
       "      <td>0.84</td>\n",
       "      <td>0.03</td>\n",
       "      <td>71,915,406,665.05</td>\n",
       "      <td>...</td>\n",
       "      <td>0.04</td>\n",
       "      <td>0.14</td>\n",
       "      <td>0.08</td>\n",
       "      <td>0.06</td>\n",
       "      <td>0.15</td>\n",
       "      <td>0.11</td>\n",
       "      <td>0.14</td>\n",
       "      <td>0.06</td>\n",
       "      <td>0.11</td>\n",
       "      <td>0.07</td>\n",
       "    </tr>\n",
       "    <tr>\n",
       "      <th>std</th>\n",
       "      <td>0.19</td>\n",
       "      <td>32.59</td>\n",
       "      <td>34.13</td>\n",
       "      <td>2.36</td>\n",
       "      <td>75.08</td>\n",
       "      <td>3.88</td>\n",
       "      <td>6.55</td>\n",
       "      <td>0.13</td>\n",
       "      <td>0.08</td>\n",
       "      <td>182,935,717,149.42</td>\n",
       "      <td>...</td>\n",
       "      <td>0.20</td>\n",
       "      <td>0.34</td>\n",
       "      <td>0.27</td>\n",
       "      <td>0.24</td>\n",
       "      <td>0.36</td>\n",
       "      <td>0.32</td>\n",
       "      <td>0.34</td>\n",
       "      <td>0.24</td>\n",
       "      <td>0.31</td>\n",
       "      <td>0.25</td>\n",
       "    </tr>\n",
       "    <tr>\n",
       "      <th>min</th>\n",
       "      <td>-1.50</td>\n",
       "      <td>0.00</td>\n",
       "      <td>0.31</td>\n",
       "      <td>0.82</td>\n",
       "      <td>0.13</td>\n",
       "      <td>-61.77</td>\n",
       "      <td>-1.38</td>\n",
       "      <td>0.31</td>\n",
       "      <td>0.00</td>\n",
       "      <td>0.00</td>\n",
       "      <td>...</td>\n",
       "      <td>0.00</td>\n",
       "      <td>0.00</td>\n",
       "      <td>0.00</td>\n",
       "      <td>0.00</td>\n",
       "      <td>0.00</td>\n",
       "      <td>0.00</td>\n",
       "      <td>0.00</td>\n",
       "      <td>0.00</td>\n",
       "      <td>0.00</td>\n",
       "      <td>0.00</td>\n",
       "    </tr>\n",
       "    <tr>\n",
       "      <th>25%</th>\n",
       "      <td>0.06</td>\n",
       "      <td>1.90</td>\n",
       "      <td>12.79</td>\n",
       "      <td>2.14</td>\n",
       "      <td>17.79</td>\n",
       "      <td>0.11</td>\n",
       "      <td>3.12</td>\n",
       "      <td>0.76</td>\n",
       "      <td>0.00</td>\n",
       "      <td>15,736,608,768.00</td>\n",
       "      <td>...</td>\n",
       "      <td>0.00</td>\n",
       "      <td>0.00</td>\n",
       "      <td>0.00</td>\n",
       "      <td>0.00</td>\n",
       "      <td>0.00</td>\n",
       "      <td>0.00</td>\n",
       "      <td>0.00</td>\n",
       "      <td>0.00</td>\n",
       "      <td>0.00</td>\n",
       "      <td>0.00</td>\n",
       "    </tr>\n",
       "    <tr>\n",
       "      <th>50%</th>\n",
       "      <td>0.12</td>\n",
       "      <td>3.63</td>\n",
       "      <td>24.53</td>\n",
       "      <td>2.95</td>\n",
       "      <td>32.05</td>\n",
       "      <td>0.18</td>\n",
       "      <td>5.33</td>\n",
       "      <td>0.86</td>\n",
       "      <td>0.01</td>\n",
       "      <td>29,998,278,656.00</td>\n",
       "      <td>...</td>\n",
       "      <td>0.00</td>\n",
       "      <td>0.00</td>\n",
       "      <td>0.00</td>\n",
       "      <td>0.00</td>\n",
       "      <td>0.00</td>\n",
       "      <td>0.00</td>\n",
       "      <td>0.00</td>\n",
       "      <td>0.00</td>\n",
       "      <td>0.00</td>\n",
       "      <td>0.00</td>\n",
       "    </tr>\n",
       "    <tr>\n",
       "      <th>75%</th>\n",
       "      <td>0.20</td>\n",
       "      <td>7.58</td>\n",
       "      <td>42.55</td>\n",
       "      <td>4.24</td>\n",
       "      <td>64.13</td>\n",
       "      <td>0.27</td>\n",
       "      <td>9.08</td>\n",
       "      <td>0.93</td>\n",
       "      <td>0.01</td>\n",
       "      <td>61,668,108,288.00</td>\n",
       "      <td>...</td>\n",
       "      <td>0.00</td>\n",
       "      <td>0.00</td>\n",
       "      <td>0.00</td>\n",
       "      <td>0.00</td>\n",
       "      <td>0.00</td>\n",
       "      <td>0.00</td>\n",
       "      <td>0.00</td>\n",
       "      <td>0.00</td>\n",
       "      <td>0.00</td>\n",
       "      <td>0.00</td>\n",
       "    </tr>\n",
       "    <tr>\n",
       "      <th>max</th>\n",
       "      <td>1.13</td>\n",
       "      <td>331.45</td>\n",
       "      <td>249.02</td>\n",
       "      <td>15.24</td>\n",
       "      <td>600.37</td>\n",
       "      <td>0.65</td>\n",
       "      <td>42.90</td>\n",
       "      <td>1.25</td>\n",
       "      <td>0.60</td>\n",
       "      <td>2,384,660,000,000.00</td>\n",
       "      <td>...</td>\n",
       "      <td>1.00</td>\n",
       "      <td>1.00</td>\n",
       "      <td>1.00</td>\n",
       "      <td>1.00</td>\n",
       "      <td>1.00</td>\n",
       "      <td>1.00</td>\n",
       "      <td>1.00</td>\n",
       "      <td>1.00</td>\n",
       "      <td>1.00</td>\n",
       "      <td>1.00</td>\n",
       "    </tr>\n",
       "  </tbody>\n",
       "</table>\n",
       "<p>8 rows × 38 columns</p>\n",
       "</div>"
      ],
      "text/plain": [
       "       profitMargins  priceToBook  bookValue  shortRatio  revenuePerShare  \\\n",
       "count         396.00       396.00     396.00      396.00           396.00   \n",
       "mean            0.12        11.05      34.03        3.63            56.29   \n",
       "std             0.19        32.59      34.13        2.36            75.08   \n",
       "min            -1.50         0.00       0.31        0.82             0.13   \n",
       "25%             0.06         1.90      12.79        2.14            17.79   \n",
       "50%             0.12         3.63      24.53        2.95            32.05   \n",
       "75%             0.20         7.58      42.55        4.24            64.13   \n",
       "max             1.13       331.45     249.02       15.24           600.37   \n",
       "\n",
       "       operatingMargins  forwardEps  heldPercentInstitutions  \\\n",
       "count            396.00      396.00                   396.00   \n",
       "mean              -0.13        7.15                     0.84   \n",
       "std                3.88        6.55                     0.13   \n",
       "min              -61.77       -1.38                     0.31   \n",
       "25%                0.11        3.12                     0.76   \n",
       "50%                0.18        5.33                     0.86   \n",
       "75%                0.27        9.08                     0.93   \n",
       "max                0.65       42.90                     1.25   \n",
       "\n",
       "       heldPercentInsiders            marketCap  ...  \\\n",
       "count               396.00               396.00  ...   \n",
       "mean                  0.03    71,915,406,665.05  ...   \n",
       "std                   0.08   182,935,717,149.42  ...   \n",
       "min                   0.00                 0.00  ...   \n",
       "25%                   0.00    15,736,608,768.00  ...   \n",
       "50%                   0.01    29,998,278,656.00  ...   \n",
       "75%                   0.01    61,668,108,288.00  ...   \n",
       "max                   0.60 2,384,660,000,000.00  ...   \n",
       "\n",
       "       sector_Communication Services  sector_Consumer Cyclical  \\\n",
       "count                         396.00                    396.00   \n",
       "mean                            0.04                      0.14   \n",
       "std                             0.20                      0.34   \n",
       "min                             0.00                      0.00   \n",
       "25%                             0.00                      0.00   \n",
       "50%                             0.00                      0.00   \n",
       "75%                             0.00                      0.00   \n",
       "max                             1.00                      1.00   \n",
       "\n",
       "       sector_Consumer Defensive  sector_Energy  sector_Financial Services  \\\n",
       "count                     396.00         396.00                     396.00   \n",
       "mean                        0.08           0.06                       0.15   \n",
       "std                         0.27           0.24                       0.36   \n",
       "min                         0.00           0.00                       0.00   \n",
       "25%                         0.00           0.00                       0.00   \n",
       "50%                         0.00           0.00                       0.00   \n",
       "75%                         0.00           0.00                       0.00   \n",
       "max                         1.00           1.00                       1.00   \n",
       "\n",
       "       sector_Healthcare  sector_Industrials  sector_Real Estate  \\\n",
       "count             396.00              396.00              396.00   \n",
       "mean                0.11                0.14                0.06   \n",
       "std                 0.32                0.34                0.24   \n",
       "min                 0.00                0.00                0.00   \n",
       "25%                 0.00                0.00                0.00   \n",
       "50%                 0.00                0.00                0.00   \n",
       "75%                 0.00                0.00                0.00   \n",
       "max                 1.00                1.00                1.00   \n",
       "\n",
       "       sector_Technology  sector_Utilities  \n",
       "count             396.00            396.00  \n",
       "mean                0.11              0.07  \n",
       "std                 0.31              0.25  \n",
       "min                 0.00              0.00  \n",
       "25%                 0.00              0.00  \n",
       "50%                 0.00              0.00  \n",
       "75%                 0.00              0.00  \n",
       "max                 1.00              1.00  \n",
       "\n",
       "[8 rows x 38 columns]"
      ]
     },
     "execution_count": 17,
     "metadata": {},
     "output_type": "execute_result"
    }
   ],
   "source": [
    "data.describe()"
   ]
  },
  {
   "cell_type": "code",
   "execution_count": 18,
   "metadata": {},
   "outputs": [
    {
     "data": {
      "image/png": "[encoded data removed]",
      "text/plain": [
       "<Figure size 1296x1728 with 18 Axes>"
      ]
     },
     "metadata": {
      "needs_background": "light"
     },
     "output_type": "display_data"
    }
   ],
   "source": [
    "f, axes = plt.subplots(6, 3, figsize=(18, 24))\n",
    "\n",
    "counter=1\n",
    "hor=0\n",
    "ver=0\n",
    "for n in data:\n",
    "    if(counter>=4 and counter<=21):\n",
    "        bpDF = pd.concat([data[n], data['CLASS']], axis = 1).reindex(data[n].index)\n",
    "        theplot=sb.boxplot(x = n, y = \"CLASS\", data = bpDF, orient = \"h\",ax = axes[ver,hor])\n",
    "        stat=pd.DataFrame(data[n].describe())\n",
    "        pmax=(stat.iloc[6]+1.5*(stat.iloc[6]-stat.iloc[4]))*2\n",
    "        del stat\n",
    "        if(counter!=4):\n",
    "            theplot.set_xlim(0,int(pmax))\n",
    "        del bpDF\n",
    "        hor+=1\n",
    "        if(hor==3):\n",
    "            hor=0\n",
    "            ver+=1\n",
    "    counter+=1\n"
   ]
  },
  {
   "cell_type": "markdown",
   "metadata": {
    "id": "_B_izUGZuqUX"
   },
   "source": [
    "# Univariate vs Multivariate "
   ]
  },
  {
   "cell_type": "code",
   "execution_count": 19,
   "metadata": {
    "id": "a6Tn1LnGuXqU"
   },
   "outputs": [],
   "source": [
    "X = pd.DataFrame(data['beta'])\n",
    "y = pd.DataFrame(data['CLASS'])\n",
    "X_train,X_test,y_train,y_test = train_test_split(X,y,test_size = 0.2,random_state=0)"
   ]
  },
  {
   "cell_type": "code",
   "execution_count": 20,
   "metadata": {
    "id": "KL_R6QgGuXqU"
   },
   "outputs": [],
   "source": [
    "RS = RobustScaler()\n",
    "X_train = RS.fit_transform(X_train)\n",
    "X_test = RS.transform(X_test)"
   ]
  },
  {
   "cell_type": "code",
   "execution_count": 21,
   "metadata": {
    "id": "HalRG5eiuXqV",
    "outputId": "7c895770-e2a1-4806-97fb-bb09ff5abb30"
   },
   "outputs": [
    {
     "data": {
      "text/plain": [
       "GaussianNB()"
      ]
     },
     "execution_count": 21,
     "metadata": {},
     "output_type": "execute_result"
    }
   ],
   "source": [
    "from sklearn.naive_bayes import GaussianNB\n",
    "gb=GaussianNB()\n",
    "gb.fit(X_train,y_train)"
   ]
  },
  {
   "cell_type": "code",
   "execution_count": 22,
   "metadata": {
    "id": "2xxxteI8uXqV",
    "outputId": "82864d14-4472-42af-f79e-7078e236b640"
   },
   "outputs": [
    {
     "name": "stdout",
     "output_type": "stream",
     "text": [
      "accuracy is 76.25 %\n",
      "std is 4.99 %\n"
     ]
    }
   ],
   "source": [
    "from sklearn.model_selection import cross_val_score\n",
    "accuracies = cross_val_score(estimator=gb, X=X_train ,y=y_train,cv=10)\n",
    "print(\"accuracy is {:.2f} %\".format(accuracies.mean()*100))\n",
    "print(\"std is {:.2f} %\".format(accuracies.std()*100))"
   ]
  },
  {
   "cell_type": "code",
   "execution_count": 23,
   "metadata": {
    "id": "M1MDFwj_uXqW"
   },
   "outputs": [],
   "source": [
    "pre4=gb.predict(X_test)\n"
   ]
  },
  {
   "cell_type": "code",
   "execution_count": 24,
   "metadata": {
    "id": "uCMeikLWuXqW",
    "outputId": "457f81c1-b545-4659-e3d9-2f94045a99dd"
   },
   "outputs": [
    {
     "name": "stdout",
     "output_type": "stream",
     "text": [
      "0.7375\n",
      "[[43  3]\n",
      " [18 16]]\n"
     ]
    }
   ],
   "source": [
    "Naive_bayes_Gaussian_nb=accuracy_score(pre4,y_test)\n",
    "print(accuracy_score(pre4,y_test))\n",
    "print(confusion_matrix(y_test,pre4))"
   ]
  },
  {
   "cell_type": "code",
   "execution_count": 25,
   "metadata": {
    "id": "susHjFn_uXqX"
   },
   "outputs": [],
   "source": [
    "X = pd.DataFrame(data[['beta','sector_Healthcare','marketCap','heldPercentInsiders']])\n",
    "y = pd.DataFrame(data['CLASS'])\n",
    "X_train,X_test,y_train,y_test = train_test_split(X,y,test_size = 0.2,random_state=0)"
   ]
  },
  {
   "cell_type": "code",
   "execution_count": 26,
   "metadata": {
    "id": "oNJGmN02uXqX"
   },
   "outputs": [],
   "source": [
    "RS = RobustScaler()\n",
    "X_train = RS.fit_transform(X_train)\n",
    "X_test = RS.transform(X_test)"
   ]
  },
  {
   "cell_type": "code",
   "execution_count": 27,
   "metadata": {
    "id": "BBVngrZBuXqX",
    "outputId": "61fa9d21-173f-4887-86d5-a8e170e0980a"
   },
   "outputs": [
    {
     "data": {
      "text/plain": [
       "GaussianNB()"
      ]
     },
     "execution_count": 27,
     "metadata": {},
     "output_type": "execute_result"
    }
   ],
   "source": [
    "from sklearn.naive_bayes import GaussianNB\n",
    "gb=GaussianNB()\n",
    "gb.fit(X_train,y_train)"
   ]
  },
  {
   "cell_type": "code",
   "execution_count": 28,
   "metadata": {
    "id": "dzywLsYouXqY",
    "outputId": "61ccfffe-e36a-439e-a4d3-c8d9dd662eeb"
   },
   "outputs": [
    {
     "name": "stdout",
     "output_type": "stream",
     "text": [
      "accuracy is 71.22 %\n",
      "std is 6.44 %\n"
     ]
    }
   ],
   "source": [
    "from sklearn.model_selection import cross_val_score\n",
    "accuracies = cross_val_score(estimator=gb, X=X_train ,y=y_train,cv=10)\n",
    "print(\"accuracy is {:.2f} %\".format(accuracies.mean()*100))\n",
    "print(\"std is {:.2f} %\".format(accuracies.std()*100))"
   ]
  },
  {
   "cell_type": "code",
   "execution_count": 29,
   "metadata": {
    "id": "FGy1TpB6uXqZ"
   },
   "outputs": [],
   "source": [
    "pre4=gb.predict(X_test)\n"
   ]
  },
  {
   "cell_type": "code",
   "execution_count": 30,
   "metadata": {
    "id": "B-khv11ouXqZ",
    "outputId": "2e497bf7-01d6-4e93-92ca-dc600d9effea"
   },
   "outputs": [
    {
     "name": "stdout",
     "output_type": "stream",
     "text": [
      "0.7375\n",
      "[[28 18]\n",
      " [ 3 31]]\n"
     ]
    }
   ],
   "source": [
    "Naive_bayes_Gaussian_nb=accuracy_score(pre4,y_test)\n",
    "print(accuracy_score(pre4,y_test))\n",
    "print(confusion_matrix(y_test,pre4))"
   ]
  },
  {
   "cell_type": "markdown",
   "metadata": {
    "id": "DYe-Zj15vaNa"
   },
   "source": [
    "# Train Test Split"
   ]
  },
  {
   "cell_type": "code",
   "execution_count": 31,
   "metadata": {
    "id": "llGMflGQnmVs"
   },
   "outputs": [],
   "source": [
    "X= pd.DataFrame(data[['profitMargins',\n",
    " 'priceToBook' ,'bookValue' ,'shortRatio' ,'revenuePerShare',\n",
    " 'operatingMargins', 'forwardEps' ,'heldPercentInstitutions',\n",
    " 'heldPercentInsiders', 'marketCap', 'volume', 'totalDebt',\n",
    " 'totalCash', 'beta', 'totalCashPerShare' ,'enterpriseValue' ,'floatShares'\n",
    " , 'numberOfAnalystOpinions' ,'sector_Basic Materials', 'sector_Communication Services',\n",
    "       'sector_Consumer Cyclical', 'sector_Consumer Defensive',\n",
    "       'sector_Energy', 'sector_Financial Services', 'sector_Healthcare',\n",
    "       'sector_Industrials', 'sector_Real Estate', 'sector_Technology',\n",
    "       'sector_Utilities']])\n",
    "y = pd.DataFrame(data['CLASS'])\n"
   ]
  },
  {
   "cell_type": "code",
   "execution_count": 32,
   "metadata": {},
   "outputs": [],
   "source": [
    "X_train,X_test,y_train,y_test = train_test_split(X,y,test_size = 0.2,random_state=0)"
   ]
  },
  {
   "cell_type": "markdown",
   "metadata": {
    "id": "D-WUf1F8oYSs"
   },
   "source": [
    "# Data preprocessing -*Scaling* the data"
   ]
  },
  {
   "cell_type": "code",
   "execution_count": 33,
   "metadata": {
    "id": "lxDIUFomoZlA"
   },
   "outputs": [],
   "source": [
    "RS = RobustScaler()\n",
    "X_train = RS.fit_transform(X_train)\n",
    "X_test = RS.transform(X_test)"
   ]
  },
  {
   "cell_type": "markdown",
   "metadata": {
    "id": "NCrP7dtnogT8"
   },
   "source": [
    "# LOGISTIC REGRESSION"
   ]
  },
  {
   "cell_type": "code",
   "execution_count": 34,
   "metadata": {
    "colab": {
     "base_uri": "https://localhost:8080/"
    },
    "executionInfo": {
     "elapsed": 4,
     "status": "ok",
     "timestamp": 1636333648366,
     "user": {
      "displayName": "Haresh",
      "photoUrl": "https://lh3.googleusercontent.com/a-/AOh14GgoXsUrwqrdYieaCTJs4eifEU7OEbL4VqCuKgzY=s64",
      "userId": "03605754073230125307"
     },
     "user_tz": -480
    },
    "id": "Ogbv2TejokcG",
    "outputId": "b20b3744-8c28-48ec-9aa9-21d290b6115c"
   },
   "outputs": [
    {
     "data": {
      "text/plain": [
       "LogisticRegression()"
      ]
     },
     "execution_count": 34,
     "metadata": {},
     "output_type": "execute_result"
    }
   ],
   "source": [
    "lg=LogisticRegression()\n",
    "lg.fit(X_train,y_train)\n"
   ]
  },
  {
   "cell_type": "code",
   "execution_count": 35,
   "metadata": {
    "id": "Vm2fn9XordWP"
   },
   "outputs": [],
   "source": [
    "pre=lg.predict(X_test)"
   ]
  },
  {
   "cell_type": "code",
   "execution_count": 36,
   "metadata": {
    "id": "RaE3Ah6NaG7d"
   },
   "outputs": [],
   "source": [
    "lg_score=accuracy_score(y_test,pre)\n"
   ]
  },
  {
   "cell_type": "code",
   "execution_count": 37,
   "metadata": {
    "colab": {
     "base_uri": "https://localhost:8080/"
    },
    "executionInfo": {
     "elapsed": 4,
     "status": "ok",
     "timestamp": 1636333649336,
     "user": {
      "displayName": "Haresh",
      "photoUrl": "https://lh3.googleusercontent.com/a-/AOh14GgoXsUrwqrdYieaCTJs4eifEU7OEbL4VqCuKgzY=s64",
      "userId": "03605754073230125307"
     },
     "user_tz": -480
    },
    "id": "XUrii3JhrgMR",
    "outputId": "dda2199c-d620-475f-ea2a-e64f1e0c8a7c"
   },
   "outputs": [
    {
     "name": "stdout",
     "output_type": "stream",
     "text": [
      "              precision    recall  f1-score   support\n",
      "\n",
      "           0       0.76      0.80      0.78        46\n",
      "           1       0.71      0.65      0.68        34\n",
      "\n",
      "    accuracy                           0.74        80\n",
      "   macro avg       0.73      0.73      0.73        80\n",
      "weighted avg       0.74      0.74      0.74        80\n",
      "\n"
     ]
    }
   ],
   "source": [
    "print(classification_report(y_test,pre))"
   ]
  },
  {
   "cell_type": "code",
   "execution_count": 38,
   "metadata": {
    "colab": {
     "base_uri": "https://localhost:8080/"
    },
    "executionInfo": {
     "elapsed": 516,
     "status": "ok",
     "timestamp": 1636333650788,
     "user": {
      "displayName": "Haresh",
      "photoUrl": "https://lh3.googleusercontent.com/a-/AOh14GgoXsUrwqrdYieaCTJs4eifEU7OEbL4VqCuKgzY=s64",
      "userId": "03605754073230125307"
     },
     "user_tz": -480
    },
    "id": "swPN4Mj6sEKg",
    "outputId": "8508046d-96da-4374-8e62-e2dea09c1b46"
   },
   "outputs": [
    {
     "name": "stdout",
     "output_type": "stream",
     "text": [
      "f1score :  0.6769230769230768\n"
     ]
    }
   ],
   "source": [
    "print(\"f1score : \" ,f1_score(y_test,pre))\n",
    "lg_accuracies = cross_val_score(estimator=lg, X=X_train ,y=y_train,cv=10).mean()*100\n",
    "\n"
   ]
  },
  {
   "cell_type": "code",
   "execution_count": 39,
   "metadata": {
    "colab": {
     "base_uri": "https://localhost:8080/",
     "height": 298
    },
    "executionInfo": {
     "elapsed": 7,
     "status": "ok",
     "timestamp": 1636333650789,
     "user": {
      "displayName": "Haresh",
      "photoUrl": "https://lh3.googleusercontent.com/a-/AOh14GgoXsUrwqrdYieaCTJs4eifEU7OEbL4VqCuKgzY=s64",
      "userId": "03605754073230125307"
     },
     "user_tz": -480
    },
    "id": "7veNzQcIf_t4",
    "outputId": "075a1ff2-3647-4766-a234-3e1229423a92"
   },
   "outputs": [
    {
     "data": {
      "text/plain": [
       "<sklearn.metrics._plot.confusion_matrix.ConfusionMatrixDisplay at 0x18265efac70>"
      ]
     },
     "execution_count": 39,
     "metadata": {},
     "output_type": "execute_result"
    },
    {
     "data": {
      "image/png": "[encoded data removed]",
      "text/plain": [
       "<Figure size 432x288 with 2 Axes>"
      ]
     },
     "metadata": {
      "needs_background": "light"
     },
     "output_type": "display_data"
    }
   ],
   "source": [
    "plot_confusion_matrix(lg,X_test,y_test)"
   ]
  },
  {
   "cell_type": "code",
   "execution_count": 40,
   "metadata": {
    "colab": {
     "base_uri": "https://localhost:8080/",
     "height": 302
    },
    "executionInfo": {
     "elapsed": 812,
     "status": "ok",
     "timestamp": 1636333652537,
     "user": {
      "displayName": "Haresh",
      "photoUrl": "https://lh3.googleusercontent.com/a-/AOh14GgoXsUrwqrdYieaCTJs4eifEU7OEbL4VqCuKgzY=s64",
      "userId": "03605754073230125307"
     },
     "user_tz": -480
    },
    "id": "l3rOuqKAVFBF",
    "outputId": "165f66fd-75e9-43dd-fed1-dc660e357728"
   },
   "outputs": [
    {
     "name": "stdout",
     "output_type": "stream",
     "text": [
      "0.7375\n"
     ]
    },
    {
     "data": {
      "text/plain": [
       "<AxesSubplot:>"
      ]
     },
     "execution_count": 40,
     "metadata": {},
     "output_type": "execute_result"
    },
    {
     "data": {
      "image/png": "[encoded data removed]",
      "text/plain": [
       "<Figure size 432x288 with 2 Axes>"
      ]
     },
     "metadata": {
      "needs_background": "light"
     },
     "output_type": "display_data"
    }
   ],
   "source": [
    "print(accuracy_score(y_test,pre))\n",
    "sb.heatmap(confusion_matrix(y_test,pre), \n",
    "           annot = True, fmt=\".0f\", annot_kws={\"size\": 18})"
   ]
  },
  {
   "cell_type": "code",
   "execution_count": null,
   "metadata": {
    "id": "T-bg4yrBHw6P"
   },
   "outputs": [],
   "source": []
  },
  {
   "cell_type": "markdown",
   "metadata": {
    "id": "TWBcyHsnH2pl"
   },
   "source": [
    "# NAIVE BAYES"
   ]
  },
  {
   "cell_type": "code",
   "execution_count": 41,
   "metadata": {
    "id": "pnCgB5Cs-ner"
   },
   "outputs": [],
   "source": [
    "\n",
    "nb_accuracies = cross_val_score(estimator=gb, X=X_train ,y=y_train,cv=10).mean()*100\n",
    "\n"
   ]
  },
  {
   "cell_type": "code",
   "execution_count": 42,
   "metadata": {
    "executionInfo": {
     "elapsed": 793,
     "status": "aborted",
     "timestamp": 1636333190796,
     "user": {
      "displayName": "Haresh",
      "photoUrl": "https://lh3.googleusercontent.com/a-/AOh14GgoXsUrwqrdYieaCTJs4eifEU7OEbL4VqCuKgzY=s64",
      "userId": "03605754073230125307"
     },
     "user_tz": -480
    },
    "id": "hvBlwrGF-nZQ",
    "outputId": "93bdf9be-e7e9-4c01-c3ed-d50d2b19655f"
   },
   "outputs": [
    {
     "data": {
      "text/plain": [
       "GaussianNB()"
      ]
     },
     "execution_count": 42,
     "metadata": {},
     "output_type": "execute_result"
    }
   ],
   "source": [
    "from sklearn.naive_bayes import GaussianNB\n",
    "gb=GaussianNB()\n",
    "gb.fit(X_train,y_train)\n"
   ]
  },
  {
   "cell_type": "code",
   "execution_count": 43,
   "metadata": {
    "id": "yQP6oivZ-nhx"
   },
   "outputs": [],
   "source": [
    "pre4=gb.predict(X_test)"
   ]
  },
  {
   "cell_type": "code",
   "execution_count": 44,
   "metadata": {
    "executionInfo": {
     "elapsed": 794,
     "status": "aborted",
     "timestamp": 1636333190798,
     "user": {
      "displayName": "Haresh",
      "photoUrl": "https://lh3.googleusercontent.com/a-/AOh14GgoXsUrwqrdYieaCTJs4eifEU7OEbL4VqCuKgzY=s64",
      "userId": "03605754073230125307"
     },
     "user_tz": -480
    },
    "id": "FWr3Frqz-3yS",
    "outputId": "61306a73-20e4-4259-a689-b87a02a76547"
   },
   "outputs": [
    {
     "data": {
      "text/plain": [
       "<AxesSubplot:>"
      ]
     },
     "execution_count": 44,
     "metadata": {},
     "output_type": "execute_result"
    },
    {
     "data": {
      "image/png": "[encoded data removed]",
      "text/plain": [
       "<Figure size 432x288 with 2 Axes>"
      ]
     },
     "metadata": {
      "needs_background": "light"
     },
     "output_type": "display_data"
    }
   ],
   "source": [
    "Naive_bayes_Gaussian_nb=accuracy_score(pre4,y_test)\n",
    "nb_scores=accuracy_score(y_test,pre4)\n",
    "sb.heatmap(confusion_matrix(y_test,pre4 ), \n",
    "           annot = True, fmt=\".0f\", annot_kws={\"size\": 18})"
   ]
  },
  {
   "cell_type": "code",
   "execution_count": 45,
   "metadata": {
    "executionInfo": {
     "elapsed": 793,
     "status": "aborted",
     "timestamp": 1636333190798,
     "user": {
      "displayName": "Haresh",
      "photoUrl": "https://lh3.googleusercontent.com/a-/AOh14GgoXsUrwqrdYieaCTJs4eifEU7OEbL4VqCuKgzY=s64",
      "userId": "03605754073230125307"
     },
     "user_tz": -480
    },
    "id": "G5spHZu_-34I",
    "outputId": "42343b51-dcfc-4ec6-ea57-44fd054ef02a"
   },
   "outputs": [
    {
     "name": "stdout",
     "output_type": "stream",
     "text": [
      "              precision    recall  f1-score   support\n",
      "\n",
      "           0       0.79      0.96      0.86        46\n",
      "           1       0.92      0.65      0.76        34\n",
      "\n",
      "    accuracy                           0.82        80\n",
      "   macro avg       0.85      0.80      0.81        80\n",
      "weighted avg       0.84      0.82      0.82        80\n",
      "\n"
     ]
    }
   ],
   "source": [
    "\n",
    "print(classification_report(y_test,pre4))"
   ]
  },
  {
   "cell_type": "code",
   "execution_count": null,
   "metadata": {
    "id": "IpTuS7fxH6ja"
   },
   "outputs": [],
   "source": []
  },
  {
   "cell_type": "markdown",
   "metadata": {
    "id": "A52pogkiH725"
   },
   "source": [
    "# DECISION TREE CLASSIFIER\n"
   ]
  },
  {
   "cell_type": "code",
   "execution_count": 46,
   "metadata": {
    "executionInfo": {
     "elapsed": 791,
     "status": "aborted",
     "timestamp": 1636333190799,
     "user": {
      "displayName": "Haresh",
      "photoUrl": "https://lh3.googleusercontent.com/a-/AOh14GgoXsUrwqrdYieaCTJs4eifEU7OEbL4VqCuKgzY=s64",
      "userId": "03605754073230125307"
     },
     "user_tz": -480
    },
    "id": "opihaM5J-38u",
    "outputId": "aa283005-14d3-40e2-85bd-b3101119668b"
   },
   "outputs": [
    {
     "data": {
      "text/plain": [
       "DecisionTreeClassifier(max_depth=5)"
      ]
     },
     "execution_count": 46,
     "metadata": {},
     "output_type": "execute_result"
    }
   ],
   "source": [
    "from sklearn.tree import DecisionTreeClassifier\n",
    "dc=DecisionTreeClassifier(criterion='gini',max_depth=5)\n",
    "dc.fit(X_train,y_train)"
   ]
  },
  {
   "cell_type": "code",
   "execution_count": null,
   "metadata": {
    "id": "xrCz126xkyHK"
   },
   "outputs": [],
   "source": []
  },
  {
   "cell_type": "code",
   "execution_count": 47,
   "metadata": {
    "id": "wV5jjcNw-3_8"
   },
   "outputs": [],
   "source": [
    "\n",
    "dtc_accuracies = cross_val_score(estimator=dc, X=X_train ,y=y_train,cv=10).mean()*100\n",
    "\n"
   ]
  },
  {
   "cell_type": "code",
   "execution_count": 48,
   "metadata": {
    "id": "F1NvY3Jk-4Dh"
   },
   "outputs": [],
   "source": [
    "pre5=dc.predict(X_test)\n"
   ]
  },
  {
   "cell_type": "code",
   "execution_count": 49,
   "metadata": {
    "executionInfo": {
     "elapsed": 793,
     "status": "aborted",
     "timestamp": 1636333190802,
     "user": {
      "displayName": "Haresh",
      "photoUrl": "https://lh3.googleusercontent.com/a-/AOh14GgoXsUrwqrdYieaCTJs4eifEU7OEbL4VqCuKgzY=s64",
      "userId": "03605754073230125307"
     },
     "user_tz": -480
    },
    "id": "MQctRNsI-4Gy",
    "outputId": "8fc398b7-385d-4e0e-934c-1759d85cf35b"
   },
   "outputs": [
    {
     "data": {
      "text/plain": [
       "<AxesSubplot:>"
      ]
     },
     "execution_count": 49,
     "metadata": {},
     "output_type": "execute_result"
    },
    {
     "data": {
      "image/png": "[encoded data removed]",
      "text/plain": [
       "<Figure size 432x288 with 2 Axes>"
      ]
     },
     "metadata": {
      "needs_background": "light"
     },
     "output_type": "display_data"
    }
   ],
   "source": [
    "Decisiontress_classifier=accuracy_score(y_test,pre5)\n",
    "dt_scores=accuracy_score(y_test,pre5)\n",
    "sb.heatmap(confusion_matrix(y_test,pre5 ), \n",
    "           annot = True, fmt=\".0f\", annot_kws={\"size\": 18})"
   ]
  },
  {
   "cell_type": "code",
   "execution_count": 50,
   "metadata": {
    "executionInfo": {
     "elapsed": 41,
     "status": "aborted",
     "timestamp": 1636333190803,
     "user": {
      "displayName": "Haresh",
      "photoUrl": "https://lh3.googleusercontent.com/a-/AOh14GgoXsUrwqrdYieaCTJs4eifEU7OEbL4VqCuKgzY=s64",
      "userId": "03605754073230125307"
     },
     "user_tz": -480
    },
    "id": "sBPUHvDw-4JF",
    "outputId": "8e58ad4a-02fb-42fc-cdcb-a8ae6ca10636"
   },
   "outputs": [
    {
     "name": "stdout",
     "output_type": "stream",
     "text": [
      "              precision    recall  f1-score   support\n",
      "\n",
      "           0       0.75      0.87      0.81        46\n",
      "           1       0.78      0.62      0.69        34\n",
      "\n",
      "    accuracy                           0.76        80\n",
      "   macro avg       0.77      0.74      0.75        80\n",
      "weighted avg       0.76      0.76      0.76        80\n",
      "\n"
     ]
    }
   ],
   "source": [
    "\n",
    "print(classification_report(y_test,pre5))"
   ]
  },
  {
   "cell_type": "code",
   "execution_count": null,
   "metadata": {
    "id": "d4-188pZjj7L"
   },
   "outputs": [],
   "source": []
  },
  {
   "cell_type": "markdown",
   "metadata": {
    "id": "h4gByD99IAUb"
   },
   "source": [
    "# RANDOM FOREST CLASSIFIER"
   ]
  },
  {
   "cell_type": "code",
   "execution_count": 51,
   "metadata": {
    "executionInfo": {
     "elapsed": 41,
     "status": "aborted",
     "timestamp": 1636333190804,
     "user": {
      "displayName": "Haresh",
      "photoUrl": "https://lh3.googleusercontent.com/a-/AOh14GgoXsUrwqrdYieaCTJs4eifEU7OEbL4VqCuKgzY=s64",
      "userId": "03605754073230125307"
     },
     "user_tz": -480
    },
    "id": "r9s_WFN3-4My",
    "outputId": "dd2d2a9b-77bb-4f69-dc19-4b47e61901a4"
   },
   "outputs": [
    {
     "data": {
      "text/plain": [
       "RandomForestClassifier(criterion='entropy', random_state=0)"
      ]
     },
     "execution_count": 51,
     "metadata": {},
     "output_type": "execute_result"
    }
   ],
   "source": [
    "from sklearn.ensemble import RandomForestClassifier\n",
    "\n",
    "\n",
    "rc=RandomForestClassifier(criterion='entropy',random_state=0)\n",
    "rc.fit(X_train,y_train)\n"
   ]
  },
  {
   "cell_type": "code",
   "execution_count": 52,
   "metadata": {
    "id": "yoXqKq2k_ztM"
   },
   "outputs": [],
   "source": [
    "\n",
    "pre6 = rc.predict(X_test)"
   ]
  },
  {
   "cell_type": "code",
   "execution_count": 53,
   "metadata": {
    "id": "7ntfpjKT-nj2"
   },
   "outputs": [],
   "source": [
    "\n",
    "#rfc_accuracies = cross_val_score(estimator=rc, X=X_train ,y=y_train,cv=10).mean()*100\n",
    "\n",
    "rc_scores=accuracy_score(y_test,pre6)"
   ]
  },
  {
   "cell_type": "code",
   "execution_count": 54,
   "metadata": {
    "executionInfo": {
     "elapsed": 41,
     "status": "aborted",
     "timestamp": 1636333190805,
     "user": {
      "displayName": "Haresh",
      "photoUrl": "https://lh3.googleusercontent.com/a-/AOh14GgoXsUrwqrdYieaCTJs4eifEU7OEbL4VqCuKgzY=s64",
      "userId": "03605754073230125307"
     },
     "user_tz": -480
    },
    "id": "yl1-Hy8s_z1A",
    "outputId": "16e0c07d-9630-4533-ffd7-59c3c2edd89a"
   },
   "outputs": [
    {
     "data": {
      "text/plain": [
       "<AxesSubplot:>"
      ]
     },
     "execution_count": 54,
     "metadata": {},
     "output_type": "execute_result"
    },
    {
     "data": {
      "image/png": "[encoded data removed]",
      "text/plain": [
       "<Figure size 432x288 with 2 Axes>"
      ]
     },
     "metadata": {
      "needs_background": "light"
     },
     "output_type": "display_data"
    }
   ],
   "source": [
    "Random_forest=accuracy_score(pre6,y_test)\n",
    "randomf=f1_score(y_test,pre6)\n",
    "#print(accuracy_score(y_test,pre6))\n",
    "sb.heatmap(confusion_matrix(y_test,pre6 ), \n",
    "           annot = True, fmt=\".0f\", annot_kws={\"size\": 18})"
   ]
  },
  {
   "cell_type": "code",
   "execution_count": 55,
   "metadata": {
    "executionInfo": {
     "elapsed": 42,
     "status": "aborted",
     "timestamp": 1636333190805,
     "user": {
      "displayName": "Haresh",
      "photoUrl": "https://lh3.googleusercontent.com/a-/AOh14GgoXsUrwqrdYieaCTJs4eifEU7OEbL4VqCuKgzY=s64",
      "userId": "03605754073230125307"
     },
     "user_tz": -480
    },
    "id": "8JCfgXUo_z4k",
    "outputId": "492ede78-ab80-472c-cf9e-f490b95fe600"
   },
   "outputs": [
    {
     "name": "stdout",
     "output_type": "stream",
     "text": [
      "              precision    recall  f1-score   support\n",
      "\n",
      "           0       0.78      0.93      0.85        46\n",
      "           1       0.88      0.65      0.75        34\n",
      "\n",
      "    accuracy                           0.81        80\n",
      "   macro avg       0.83      0.79      0.80        80\n",
      "weighted avg       0.82      0.81      0.81        80\n",
      "\n"
     ]
    }
   ],
   "source": [
    "from sklearn.metrics import classification_report\n",
    "print(classification_report(y_test,pre6))"
   ]
  },
  {
   "cell_type": "markdown",
   "metadata": {
    "id": "_8zKt5xqu4Sw"
   },
   "source": [
    "# XGBOOST "
   ]
  },
  {
   "cell_type": "code",
   "execution_count": 56,
   "metadata": {
    "id": "XI4WrJtoQ2R-"
   },
   "outputs": [],
   "source": [
    "xgb_model = xgb.XGBClassifier()"
   ]
  },
  {
   "cell_type": "code",
   "execution_count": 57,
   "metadata": {
    "colab": {
     "base_uri": "https://localhost:8080/"
    },
    "executionInfo": {
     "elapsed": 476,
     "status": "ok",
     "timestamp": 1636333658554,
     "user": {
      "displayName": "Haresh",
      "photoUrl": "https://lh3.googleusercontent.com/a-/AOh14GgoXsUrwqrdYieaCTJs4eifEU7OEbL4VqCuKgzY=s64",
      "userId": "03605754073230125307"
     },
     "user_tz": -480
    },
    "id": "V-u1NLTcJklw",
    "outputId": "e6719087-ea59-4476-b6f4-d81148cae622"
   },
   "outputs": [
    {
     "name": "stdout",
     "output_type": "stream",
     "text": [
      "[0]\tvalidation_0-aucpr:0.75112\n",
      "[1]\tvalidation_0-aucpr:0.80572\n",
      "[2]\tvalidation_0-aucpr:0.78966\n",
      "[3]\tvalidation_0-aucpr:0.78564\n",
      "[4]\tvalidation_0-aucpr:0.79727\n",
      "[5]\tvalidation_0-aucpr:0.78589\n",
      "[6]\tvalidation_0-aucpr:0.80745\n",
      "[7]\tvalidation_0-aucpr:0.79436\n",
      "[8]\tvalidation_0-aucpr:0.78995\n",
      "[9]\tvalidation_0-aucpr:0.79142\n",
      "[10]\tvalidation_0-aucpr:0.78415\n",
      "[11]\tvalidation_0-aucpr:0.77547\n",
      "[12]\tvalidation_0-aucpr:0.78309\n",
      "[13]\tvalidation_0-aucpr:0.77601\n",
      "[14]\tvalidation_0-aucpr:0.78884\n",
      "[15]\tvalidation_0-aucpr:0.79000\n",
      "[16]\tvalidation_0-aucpr:0.78877\n",
      "[17]\tvalidation_0-aucpr:0.79048\n",
      "[18]\tvalidation_0-aucpr:0.78770\n",
      "[19]\tvalidation_0-aucpr:0.78897\n",
      "[20]\tvalidation_0-aucpr:0.78716\n"
     ]
    },
    {
     "data": {
      "text/plain": [
       "XGBClassifier(base_score=0.5, booster='gbtree', colsample_bylevel=1,\n",
       "              colsample_bynode=1, colsample_bytree=1, enable_categorical=False,\n",
       "              gamma=0, gpu_id=-1, importance_type=None,\n",
       "              interaction_constraints='', learning_rate=0.300000012,\n",
       "              max_delta_step=0, max_depth=6, min_child_weight=1, missing=nan,\n",
       "              monotone_constraints='()', n_estimators=100, n_jobs=8,\n",
       "              num_parallel_tree=1, predictor='auto', random_state=0,\n",
       "              reg_alpha=0, reg_lambda=1, scale_pos_weight=1, subsample=1,\n",
       "              tree_method='exact', validate_parameters=1, verbosity=None)"
      ]
     },
     "execution_count": 57,
     "metadata": {},
     "output_type": "execute_result"
    }
   ],
   "source": [
    "\n",
    "xgb_model.fit(X_train,y_train,early_stopping_rounds=15, \n",
    "             eval_set=[(X_test, y_test)],\n",
    "             verbose=True,eval_metric='aucpr')\n"
   ]
  },
  {
   "cell_type": "code",
   "execution_count": 58,
   "metadata": {
    "colab": {
     "base_uri": "https://localhost:8080/"
    },
    "executionInfo": {
     "elapsed": 18,
     "status": "ok",
     "timestamp": 1636333658555,
     "user": {
      "displayName": "Haresh",
      "photoUrl": "https://lh3.googleusercontent.com/a-/AOh14GgoXsUrwqrdYieaCTJs4eifEU7OEbL4VqCuKgzY=s64",
      "userId": "03605754073230125307"
     },
     "user_tz": -480
    },
    "id": "RXsNQK4fgbH6",
    "outputId": "5afea99a-28b4-44c6-c8e4-ad18a0aadd06"
   },
   "outputs": [
    {
     "name": "stdout",
     "output_type": "stream",
     "text": [
      "0.8\n"
     ]
    }
   ],
   "source": [
    "pre7=xgb_model.predict(X_test)\n",
    "xgb_score=accuracy_score(y_test,pre7)\n",
    "print(accuracy_score(y_test,pre7))\n"
   ]
  },
  {
   "cell_type": "code",
   "execution_count": 59,
   "metadata": {
    "colab": {
     "base_uri": "https://localhost:8080/"
    },
    "executionInfo": {
     "elapsed": 14,
     "status": "ok",
     "timestamp": 1636333658556,
     "user": {
      "displayName": "Haresh",
      "photoUrl": "https://lh3.googleusercontent.com/a-/AOh14GgoXsUrwqrdYieaCTJs4eifEU7OEbL4VqCuKgzY=s64",
      "userId": "03605754073230125307"
     },
     "user_tz": -480
    },
    "id": "pFr0YtjATZTC",
    "outputId": "60eab2bd-6b28-4e8b-9a24-2f3ac3722c93"
   },
   "outputs": [
    {
     "data": {
      "text/plain": [
       "XGBClassifier(base_score=0.5, booster='gbtree', colsample_bylevel=1,\n",
       "              colsample_bynode=1, colsample_bytree=1, enable_categorical=False,\n",
       "              gamma=0, gpu_id=-1, importance_type=None,\n",
       "              interaction_constraints='', learning_rate=0.300000012,\n",
       "              max_delta_step=0, max_depth=6, min_child_weight=1, missing=nan,\n",
       "              monotone_constraints='()', n_estimators=100, n_jobs=8,\n",
       "              num_parallel_tree=1, predictor='auto', random_state=0,\n",
       "              reg_alpha=0, reg_lambda=1, scale_pos_weight=1, subsample=1,\n",
       "              tree_method='exact', validate_parameters=1, verbosity=None)"
      ]
     },
     "execution_count": 59,
     "metadata": {},
     "output_type": "execute_result"
    }
   ],
   "source": [
    "xgb_model.fit(X_train,y_train,early_stopping_rounds=15, \n",
    "             eval_set=[(X_test, y_test)],\n",
    "             verbose=False,eval_metric='aucpr')"
   ]
  },
  {
   "cell_type": "code",
   "execution_count": 60,
   "metadata": {
    "id": "86B8HUXFTwGB"
   },
   "outputs": [],
   "source": [
    "pre7=xgb_model.predict(X_test)\n",
    "xgb_score=accuracy_score(y_test,pre7)\n",
    "\n",
    "\n"
   ]
  },
  {
   "cell_type": "code",
   "execution_count": 61,
   "metadata": {
    "colab": {
     "base_uri": "https://localhost:8080/",
     "height": 302
    },
    "executionInfo": {
     "elapsed": 6,
     "status": "ok",
     "timestamp": 1636333659116,
     "user": {
      "displayName": "Haresh",
      "photoUrl": "https://lh3.googleusercontent.com/a-/AOh14GgoXsUrwqrdYieaCTJs4eifEU7OEbL4VqCuKgzY=s64",
      "userId": "03605754073230125307"
     },
     "user_tz": -480
    },
    "id": "FnIODY8ETZjF",
    "outputId": "e89b97c4-4b47-4e38-c647-6e92b48f6fee"
   },
   "outputs": [
    {
     "data": {
      "text/plain": [
       "<sklearn.metrics._plot.confusion_matrix.ConfusionMatrixDisplay at 0x18263c42f10>"
      ]
     },
     "execution_count": 61,
     "metadata": {},
     "output_type": "execute_result"
    },
    {
     "data": {
      "image/png": "[encoded data removed]",
      "text/plain": [
       "<Figure size 432x288 with 2 Axes>"
      ]
     },
     "metadata": {
      "needs_background": "light"
     },
     "output_type": "display_data"
    }
   ],
   "source": [
    "plot_confusion_matrix(xgb_model,X_test,y_test)"
   ]
  },
  {
   "cell_type": "code",
   "execution_count": 62,
   "metadata": {
    "id": "ra2pxNq8TF4Z"
   },
   "outputs": [],
   "source": [
    "#xgboost_test_cv = cross_val_score(estimator=rc, X=X_test ,y=y_test,cv=10).mean()*100"
   ]
  },
  {
   "cell_type": "code",
   "execution_count": 63,
   "metadata": {
    "colab": {
     "base_uri": "https://localhost:8080/"
    },
    "executionInfo": {
     "elapsed": 5,
     "status": "ok",
     "timestamp": 1636333675035,
     "user": {
      "displayName": "Haresh",
      "photoUrl": "https://lh3.googleusercontent.com/a-/AOh14GgoXsUrwqrdYieaCTJs4eifEU7OEbL4VqCuKgzY=s64",
      "userId": "03605754073230125307"
     },
     "user_tz": -480
    },
    "id": "GFqmtREMiOZs",
    "outputId": "f109b0c6-85d6-4f17-b0e4-d61c1a6e6f53"
   },
   "outputs": [
    {
     "data": {
      "text/plain": [
       "XGBClassifier(base_score=0.5, booster='gbtree', colsample_bylevel=1,\n",
       "              colsample_bynode=1, colsample_bytree=1, enable_categorical=False,\n",
       "              gamma=0, gpu_id=-1, importance_type=None,\n",
       "              interaction_constraints='', learning_rate=0.300000012,\n",
       "              max_delta_step=0, max_depth=6, min_child_weight=1, missing=nan,\n",
       "              monotone_constraints='()', n_estimators=100, n_jobs=8,\n",
       "              num_parallel_tree=1, predictor='auto', random_state=0,\n",
       "              reg_alpha=0, reg_lambda=1, scale_pos_weight=1, subsample=1,\n",
       "              tree_method='exact', validate_parameters=1, verbosity=None)"
      ]
     },
     "execution_count": 63,
     "metadata": {},
     "output_type": "execute_result"
    }
   ],
   "source": [
    "xgb_model"
   ]
  },
  {
   "cell_type": "code",
   "execution_count": null,
   "metadata": {
    "id": "sEwHiPWdpBIS"
   },
   "outputs": [],
   "source": []
  },
  {
   "cell_type": "markdown",
   "metadata": {
    "id": "6zc6cURqiPZJ"
   },
   "source": [
    "#  preliminary Accuracy summary of all models"
   ]
  },
  {
   "cell_type": "code",
   "execution_count": 64,
   "metadata": {
    "colab": {
     "base_uri": "https://localhost:8080/",
     "height": 361
    },
    "executionInfo": {
     "elapsed": 486,
     "status": "error",
     "timestamp": 1636333686419,
     "user": {
      "displayName": "Haresh",
      "photoUrl": "https://lh3.googleusercontent.com/a-/AOh14GgoXsUrwqrdYieaCTJs4eifEU7OEbL4VqCuKgzY=s64",
      "userId": "03605754073230125307"
     },
     "user_tz": -480
    },
    "id": "RBg2zpjY_0BY",
    "outputId": "32f9aa6b-72fa-4dbe-f45b-7857af14572b"
   },
   "outputs": [
    {
     "name": "stdout",
     "output_type": "stream",
     "text": [
      "Logistic regression: 0.74      f1 score: 0.68  recall: 0.65\n",
      "naive bayes:       0.82       f1 score: 0.76 recall: 0.65\n",
      "Random forest Acurracy: 0.81   f1 score: 0.75        recall: 0.65\n",
      "XGBOOST:             0.80                 f1 score: 0.74 recall: 0.68\n"
     ]
    }
   ],
   "source": [
    "\n",
    "print('Logistic regression: {:.2f} '.format(lg_score) ,'    f1 score: {:.2f} '.format(f1_score(y_test,pre)),'recall: {:.2f}'.format(recall_score(y_test,pre)))\n",
    "#print('svmlinear:             ',svm_accuracies,'   f1 score:', f1_score(y_test,pre1),'precision:',recall_score(y_test,pre1))\n",
    "print('naive bayes:       {:.2f}    '.format(nb_scores),'  f1 score: {:.2f}'.format(f1_score(y_test,pre4)),'recall: {:.2f}'.format(recall_score(y_test,pre4)))\n",
    "#print('Decision tress:        ',dtc_accuracies,'  f1 score:',f1_score(y_test,pre5),'precision:',recall_score(y_test,pre5))\n",
    "print('Random forest Acurracy: {:.2f}'.format(rc_scores), '  f1 score: {:.2f}'.format(f1_score(y_test,pre6)),'       recall: {:.2f}'.format(recall_score(y_test,pre6)))\n",
    "print('XGBOOST:             {:.2f}  '.format(xgb_score),'              f1 score: {:.2f}'.format(f1_score(y_test,pre7)),'recall: {:.2f}'.format(recall_score(y_test,pre7)))\n",
    "#print('Hyperparameter tuned XGBOOST:  {:.2f}'.format(improved_xgb_score) ,'f1 score: {:.2f}'.format(f1_score(y_test,improved_xgb_preds)),'precision: {:.2f}'.format(recall_score(y_test,improved_xgb_preds)))"
   ]
  },
  {
   "cell_type": "markdown",
   "metadata": {
    "id": "YkPP36LR9BXL"
   },
   "source": [
    "# Hyperparameter Tuning"
   ]
  },
  {
   "cell_type": "code",
   "execution_count": 65,
   "metadata": {
    "id": "86w3iQMK-moR"
   },
   "outputs": [],
   "source": [
    "from sklearn.model_selection import RandomizedSearchCV"
   ]
  },
  {
   "cell_type": "code",
   "execution_count": 66,
   "metadata": {
    "id": "HxkDAz8A_PHc"
   },
   "outputs": [],
   "source": [
    "xgb_tune= xgb.XGBClassifier()"
   ]
  },
  {
   "cell_type": "code",
   "execution_count": 67,
   "metadata": {
    "id": "5Fk2NQhn9FBJ"
   },
   "outputs": [],
   "source": [
    "params = { 'max_depth': [3, 5, 6, 10, 15, 20],\n",
    "           'learning_rate': [0.01, 0.1, 0.2, 0.3],\n",
    "           'subsample': np.arange(0.5, 1.0, 0.1),\n",
    "           'colsample_bytree': np.arange(0.4, 1.0, 0.1),\n",
    "           'colsample_bylevel': np.arange(0.4, 1.0, 0.1),\n",
    "           'n_estimators':[100, 500, 1000],\n",
    "         'gamma':np.arange(0,2.0,0.1),\n",
    "    'reg_lambda' : np.arange(0,2.0,0.1),\n",
    "    'scale_pos_weight':[0.3,0.5,0.6,1,2]}"
   ]
  },
  {
   "cell_type": "code",
   "execution_count": 68,
   "metadata": {
    "id": "U45kQQd_iADB"
   },
   "outputs": [],
   "source": [
    "clf = RandomizedSearchCV(estimator=xgb_tune,\n",
    "                         param_distributions=params,\n",
    "                      scoring='recall',\n",
    "                         n_iter=50,  # WE USED 200 ITERATIONS setting 50 for smaller runtime\n",
    "\n",
    "                         verbose=1,cv=7,n_jobs=-1\n",
    "                        \n",
    "                        )"
   ]
  },
  {
   "cell_type": "code",
   "execution_count": 69,
   "metadata": {
    "executionInfo": {
     "elapsed": 49,
     "status": "aborted",
     "timestamp": 1636333190821,
     "user": {
      "displayName": "Haresh",
      "photoUrl": "https://lh3.googleusercontent.com/a-/AOh14GgoXsUrwqrdYieaCTJs4eifEU7OEbL4VqCuKgzY=s64",
      "userId": "03605754073230125307"
     },
     "user_tz": -480
    },
    "id": "DR8Yvzfd-9ab",
    "outputId": "d7c46387-1745-4af7-818c-25b0c3e5198f"
   },
   "outputs": [
    {
     "name": "stdout",
     "output_type": "stream",
     "text": [
      "Fitting 7 folds for each of 50 candidates, totalling 350 fits\n",
      "[23:48:03] WARNING: C:/Users/Administrator/workspace/xgboost-win64_release_1.5.0/src/learner.cc:1115: Starting in XGBoost 1.3.0, the default evaluation metric used with the objective 'binary:logistic' was changed from 'error' to 'logloss'. Explicitly set eval_metric if you'd like to restore the old behavior.\n"
     ]
    },
    {
     "data": {
      "text/plain": [
       "RandomizedSearchCV(cv=7,\n",
       "                   estimator=XGBClassifier(base_score=None, booster=None,\n",
       "                                           colsample_bylevel=None,\n",
       "                                           colsample_bynode=None,\n",
       "                                           colsample_bytree=None,\n",
       "                                           enable_categorical=False, gamma=None,\n",
       "                                           gpu_id=None, importance_type=None,\n",
       "                                           interaction_constraints=None,\n",
       "                                           learning_rate=None,\n",
       "                                           max_delta_step=None, max_depth=None,\n",
       "                                           min_child_weight=None, missing=nan,\n",
       "                                           monotone_constraints...\n",
       "                                        'gamma': array([0. , 0.1, 0.2, 0.3, 0.4, 0.5, 0.6, 0.7, 0.8, 0.9, 1. , 1.1, 1.2,\n",
       "       1.3, 1.4, 1.5, 1.6, 1.7, 1.8, 1.9]),\n",
       "                                        'learning_rate': [0.01, 0.1, 0.2, 0.3],\n",
       "                                        'max_depth': [3, 5, 6, 10, 15, 20],\n",
       "                                        'n_estimators': [100, 500, 1000],\n",
       "                                        'reg_lambda': array([0. , 0.1, 0.2, 0.3, 0.4, 0.5, 0.6, 0.7, 0.8, 0.9, 1. , 1.1, 1.2,\n",
       "       1.3, 1.4, 1.5, 1.6, 1.7, 1.8, 1.9]),\n",
       "                                        'scale_pos_weight': [0.3, 0.5, 0.6, 1,\n",
       "                                                             2],\n",
       "                                        'subsample': array([0.5, 0.6, 0.7, 0.8, 0.9])},\n",
       "                   scoring='recall', verbose=1)"
      ]
     },
     "execution_count": 69,
     "metadata": {},
     "output_type": "execute_result"
    }
   ],
   "source": [
    "clf.fit(X_train,y_train,early_stopping_rounds=10, \n",
    "             eval_set=[(X_test, y_test)],\n",
    "             verbose=False)"
   ]
  },
  {
   "cell_type": "code",
   "execution_count": 70,
   "metadata": {
    "executionInfo": {
     "elapsed": 49,
     "status": "aborted",
     "timestamp": 1636333190821,
     "user": {
      "displayName": "Haresh",
      "photoUrl": "https://lh3.googleusercontent.com/a-/AOh14GgoXsUrwqrdYieaCTJs4eifEU7OEbL4VqCuKgzY=s64",
      "userId": "03605754073230125307"
     },
     "user_tz": -480
    },
    "id": "d_tkgid4_B2r",
    "outputId": "da4deb28-a622-4b28-f688-f650aed1f580"
   },
   "outputs": [
    {
     "name": "stdout",
     "output_type": "stream",
     "text": [
      "{'subsample': 0.8999999999999999, 'scale_pos_weight': 2, 'reg_lambda': 0.8, 'n_estimators': 1000, 'max_depth': 5, 'learning_rate': 0.1, 'gamma': 0.4, 'colsample_bytree': 0.7999999999999999, 'colsample_bylevel': 0.4} \n",
      "\n"
     ]
    }
   ],
   "source": [
    "print(clf.best_params_,'\\n')\n",
    " "
   ]
  },
  {
   "cell_type": "code",
   "execution_count": 71,
   "metadata": {
    "id": "NwID19u5AONy"
   },
   "outputs": [
    {
     "data": {
      "text/plain": [
       "XGBClassifier(base_score=0.5, booster='gbtree', colsample_bylevel=0.4,\n",
       "              colsample_bynode=1, colsample_bytree=0.7999999999999999,\n",
       "              enable_categorical=False, gamma=0.4, gpu_id=-1,\n",
       "              importance_type=None, interaction_constraints='',\n",
       "              learning_rate=0.1, max_delta_step=0, max_depth=5,\n",
       "              min_child_weight=1, missing=nan, monotone_constraints='()',\n",
       "              n_estimators=1000, n_jobs=8, num_parallel_tree=1,\n",
       "              predictor='auto', random_state=0, reg_alpha=0, reg_lambda=0.8,\n",
       "              scale_pos_weight=2, subsample=0.8999999999999999,\n",
       "              tree_method='exact', validate_parameters=1, verbosity=None)"
      ]
     },
     "execution_count": 71,
     "metadata": {},
     "output_type": "execute_result"
    }
   ],
   "source": [
    "clf.best_estimator_ # use to create a new XGBOOST model"
   ]
  },
  {
   "cell_type": "markdown",
   "metadata": {
    "id": "4cdp1XKI_1Gf"
   },
   "source": [
    "## improved xgboost"
   ]
  },
  {
   "cell_type": "markdown",
   "metadata": {
    "id": "k56ZzpmEv4GL"
   },
   "source": [
    "Create a new xgboost model using parameters resulted from hyperparamter tuning .\n",
    "Change improved_xgb below accordingly\n"
   ]
  },
  {
   "cell_type": "code",
   "execution_count": 72,
   "metadata": {
    "id": "LNxJq2CU_wI5"
   },
   "outputs": [],
   "source": [
    "improved_xgb= xgb.XGBClassifier(base_score=0.5, booster='gbtree', colsample_bylevel=0.5,\n",
    "              colsample_bynode=1, colsample_bytree=0.4,\n",
    "              gamma=1.4000000000000001, learning_rate=0.01, max_delta_step=0,\n",
    "              max_depth=3, min_child_weight=1,  n_estimators=1000,\n",
    "              n_jobs=1, nthread=None, objective='binary:logistic',\n",
    "              random_state=0, reg_alpha=0, reg_lambda=0.5, scale_pos_weight=2,\n",
    "              seed=None, silent=None, subsample=0.6, verbosity=1)"
   ]
  },
  {
   "cell_type": "code",
   "execution_count": 73,
   "metadata": {
    "colab": {
     "base_uri": "https://localhost:8080/"
    },
    "executionInfo": {
     "elapsed": 5,
     "status": "ok",
     "timestamp": 1636333697699,
     "user": {
      "displayName": "Haresh",
      "photoUrl": "https://lh3.googleusercontent.com/a-/AOh14GgoXsUrwqrdYieaCTJs4eifEU7OEbL4VqCuKgzY=s64",
      "userId": "03605754073230125307"
     },
     "user_tz": -480
    },
    "id": "Zedfs1Sz_3lR",
    "outputId": "5e419e86-a136-46eb-f5a0-43d02944ae28"
   },
   "outputs": [
    {
     "data": {
      "text/plain": [
       "XGBClassifier(base_score=0.5, booster='gbtree', colsample_bylevel=0.5,\n",
       "              colsample_bynode=1, colsample_bytree=0.4,\n",
       "              enable_categorical=False, gamma=1.4000000000000001, gpu_id=-1,\n",
       "              importance_type=None, interaction_constraints='',\n",
       "              learning_rate=0.01, max_delta_step=0, max_depth=3,\n",
       "              min_child_weight=1, missing=nan, monotone_constraints='()',\n",
       "              n_estimators=1000, n_jobs=1, nthread=1, num_parallel_tree=1,\n",
       "              predictor='auto', random_state=0, reg_alpha=0, reg_lambda=0.5,\n",
       "              scale_pos_weight=2, seed=0, silent=None, subsample=0.6,\n",
       "              tree_method='exact', validate_parameters=1, ...)"
      ]
     },
     "execution_count": 73,
     "metadata": {},
     "output_type": "execute_result"
    }
   ],
   "source": [
    "improved_xgb.fit(X_train,y_train,early_stopping_rounds=15, \n",
    "             eval_set=[(X_test, y_test)],\n",
    "             verbose=False,eval_metric='aucpr')\n"
   ]
  },
  {
   "cell_type": "code",
   "execution_count": 74,
   "metadata": {
    "colab": {
     "base_uri": "https://localhost:8080/"
    },
    "executionInfo": {
     "elapsed": 592,
     "status": "ok",
     "timestamp": 1636333700536,
     "user": {
      "displayName": "Haresh",
      "photoUrl": "https://lh3.googleusercontent.com/a-/AOh14GgoXsUrwqrdYieaCTJs4eifEU7OEbL4VqCuKgzY=s64",
      "userId": "03605754073230125307"
     },
     "user_tz": -480
    },
    "id": "bB0BlYGc_3px",
    "outputId": "c57ed4c6-17eb-4f04-e7bb-380ada175867"
   },
   "outputs": [
    {
     "name": "stdout",
     "output_type": "stream",
     "text": [
      "0.775\n"
     ]
    }
   ],
   "source": [
    "improved_xgb_preds=improved_xgb.predict(X_test)\n",
    "improved_xgb_score=accuracy_score(y_test,improved_xgb_preds)\n",
    "print(improved_xgb_score)\n"
   ]
  },
  {
   "cell_type": "code",
   "execution_count": 75,
   "metadata": {
    "colab": {
     "base_uri": "https://localhost:8080/",
     "height": 298
    },
    "executionInfo": {
     "elapsed": 647,
     "status": "ok",
     "timestamp": 1636333703076,
     "user": {
      "displayName": "Haresh",
      "photoUrl": "https://lh3.googleusercontent.com/a-/AOh14GgoXsUrwqrdYieaCTJs4eifEU7OEbL4VqCuKgzY=s64",
      "userId": "03605754073230125307"
     },
     "user_tz": -480
    },
    "id": "jrmN0xNj_3vL",
    "outputId": "0677d129-0f28-492d-f9d3-3c72ad471f04"
   },
   "outputs": [
    {
     "data": {
      "text/plain": [
       "<sklearn.metrics._plot.confusion_matrix.ConfusionMatrixDisplay at 0x18264ab4a90>"
      ]
     },
     "execution_count": 75,
     "metadata": {},
     "output_type": "execute_result"
    },
    {
     "data": {
      "image/png": "[encoded data removed]",
      "text/plain": [
       "<Figure size 432x288 with 2 Axes>"
      ]
     },
     "metadata": {
      "needs_background": "light"
     },
     "output_type": "display_data"
    }
   ],
   "source": [
    "plot_confusion_matrix(improved_xgb,X_test,y_test)"
   ]
  },
  {
   "cell_type": "code",
   "execution_count": 76,
   "metadata": {
    "colab": {
     "base_uri": "https://localhost:8080/"
    },
    "executionInfo": {
     "elapsed": 4,
     "status": "ok",
     "timestamp": 1636333704330,
     "user": {
      "displayName": "Haresh",
      "photoUrl": "https://lh3.googleusercontent.com/a-/AOh14GgoXsUrwqrdYieaCTJs4eifEU7OEbL4VqCuKgzY=s64",
      "userId": "03605754073230125307"
     },
     "user_tz": -480
    },
    "id": "FLncfHMp_3ya",
    "outputId": "79c57053-c456-430b-d40a-81e43abb27eb"
   },
   "outputs": [
    {
     "name": "stdout",
     "output_type": "stream",
     "text": [
      " Hyperparameter tuned XGBOOST:   0.775     f1 score: 0.7499999999999999 recall: 0.7941176470588235\n"
     ]
    }
   ],
   "source": [
    "print(' Hyperparameter tuned XGBOOST:  ', improved_xgb_score,'    f1 score:',f1_score(y_test,improved_xgb_preds),'recall:',recall_score(y_test,improved_xgb_preds))"
   ]
  },
  {
   "cell_type": "code",
   "execution_count": 77,
   "metadata": {
    "colab": {
     "base_uri": "https://localhost:8080/"
    },
    "executionInfo": {
     "elapsed": 675,
     "status": "ok",
     "timestamp": 1636333735039,
     "user": {
      "displayName": "Haresh",
      "photoUrl": "https://lh3.googleusercontent.com/a-/AOh14GgoXsUrwqrdYieaCTJs4eifEU7OEbL4VqCuKgzY=s64",
      "userId": "03605754073230125307"
     },
     "user_tz": -480
    },
    "id": "Ak4eNQCX_30t",
    "outputId": "8d2e66b1-10f2-4205-bf04-0e334a6c43ef"
   },
   "outputs": [
    {
     "data": {
      "text/plain": [
       "XGBClassifier(base_score=0.5, booster='gbtree', colsample_bylevel=0.5,\n",
       "              colsample_bynode=1, colsample_bytree=0.4,\n",
       "              enable_categorical=False, gamma=1.4000000000000001, gpu_id=-1,\n",
       "              importance_type=None, interaction_constraints='',\n",
       "              learning_rate=0.01, max_delta_step=0, max_depth=3,\n",
       "              min_child_weight=1, missing=nan, monotone_constraints='()',\n",
       "              n_estimators=1000, n_jobs=1, nthread=1, num_parallel_tree=1,\n",
       "              predictor='auto', random_state=0, reg_alpha=0, reg_lambda=0.5,\n",
       "              scale_pos_weight=2, seed=0, silent=None, subsample=0.6,\n",
       "              tree_method='exact', validate_parameters=1, ...)"
      ]
     },
     "execution_count": 77,
     "metadata": {},
     "output_type": "execute_result"
    }
   ],
   "source": [
    "improved_xgb"
   ]
  },
  {
   "cell_type": "markdown",
   "metadata": {
    "id": "8WU00xMGopu-"
   },
   "source": [
    "## feature importance"
   ]
  },
  {
   "cell_type": "code",
   "execution_count": 78,
   "metadata": {
    "id": "XTiz6wDQrJYR"
   },
   "outputs": [],
   "source": [
    "xgnames= X.columns"
   ]
  },
  {
   "cell_type": "code",
   "execution_count": 79,
   "metadata": {
    "colab": {
     "base_uri": "https://localhost:8080/"
    },
    "executionInfo": {
     "elapsed": 4,
     "status": "ok",
     "timestamp": 1636333677871,
     "user": {
      "displayName": "Haresh",
      "photoUrl": "https://lh3.googleusercontent.com/a-/AOh14GgoXsUrwqrdYieaCTJs4eifEU7OEbL4VqCuKgzY=s64",
      "userId": "03605754073230125307"
     },
     "user_tz": -480
    },
    "id": "nWiil0MGrOjk",
    "outputId": "6eda20e2-c7c7-499b-b7f2-9d1c4a80fbe4"
   },
   "outputs": [
    {
     "data": {
      "text/plain": [
       "['profitMargins',\n",
       " 'priceToBook',\n",
       " 'bookValue',\n",
       " 'shortRatio',\n",
       " 'revenuePerShare',\n",
       " 'operatingMargins',\n",
       " 'forwardEps',\n",
       " 'heldPercentInstitutions',\n",
       " 'heldPercentInsiders',\n",
       " 'marketCap',\n",
       " 'volume',\n",
       " 'totalDebt',\n",
       " 'totalCash',\n",
       " 'beta',\n",
       " 'totalCashPerShare',\n",
       " 'enterpriseValue',\n",
       " 'floatShares',\n",
       " 'numberOfAnalystOpinions',\n",
       " 'sector_Basic Materials',\n",
       " 'sector_Communication Services',\n",
       " 'sector_Consumer Cyclical',\n",
       " 'sector_Consumer Defensive',\n",
       " 'sector_Energy',\n",
       " 'sector_Financial Services',\n",
       " 'sector_Healthcare',\n",
       " 'sector_Industrials',\n",
       " 'sector_Real Estate',\n",
       " 'sector_Technology',\n",
       " 'sector_Utilities']"
      ]
     },
     "execution_count": 79,
     "metadata": {},
     "output_type": "execute_result"
    }
   ],
   "source": [
    "list(xgnames)"
   ]
  },
  {
   "cell_type": "code",
   "execution_count": 80,
   "metadata": {
    "colab": {
     "base_uri": "https://localhost:8080/",
     "height": 300
    },
    "executionInfo": {
     "elapsed": 17,
     "status": "ok",
     "timestamp": 1636333678545,
     "user": {
      "displayName": "Haresh",
      "photoUrl": "https://lh3.googleusercontent.com/a-/AOh14GgoXsUrwqrdYieaCTJs4eifEU7OEbL4VqCuKgzY=s64",
      "userId": "03605754073230125307"
     },
     "user_tz": -480
    },
    "id": "V9Aim_x7rPIW",
    "outputId": "e7e90eff-de60-4d59-cf62-bb4a35f07ff4"
   },
   "outputs": [
    {
     "data": {
      "text/plain": [
       "Text(0.5, 1.0, 'Feature Importance : XGBOOST')"
      ]
     },
     "execution_count": 80,
     "metadata": {},
     "output_type": "execute_result"
    },
    {
     "data": {
      "image/png": "[encoded data removed]",
      "text/plain": [
       "<Figure size 432x288 with 1 Axes>"
      ]
     },
     "metadata": {
      "needs_background": "light"
     },
     "output_type": "display_data"
    }
   ],
   "source": [
    "\n",
    "#plt.yticks(['beta','shortRatio','marketCap','bookValue','priceToBook','totalCashPerShare','operatingMargins','floatShares','revenueheldPercentInsiderser',,'totalDebt','heldPercentInstitutions','volume','profitMargins','heldPercentInstitutions','sector_Technology','sector_Industrials','volume','totalCash'])\n",
    "feat_importances = pd.Series(xgb_model.feature_importances_, index=X.columns)\n",
    "feat_importances.nlargest(20).plot(kind='barh')\n",
    "plt.title('Feature Importance : XGBOOST')"
   ]
  },
  {
   "cell_type": "code",
   "execution_count": 81,
   "metadata": {
    "colab": {
     "base_uri": "https://localhost:8080/",
     "height": 211
    },
    "executionInfo": {
     "elapsed": 681,
     "status": "error",
     "timestamp": 1636333681023,
     "user": {
      "displayName": "Haresh",
      "photoUrl": "https://lh3.googleusercontent.com/a-/AOh14GgoXsUrwqrdYieaCTJs4eifEU7OEbL4VqCuKgzY=s64",
      "userId": "03605754073230125307"
     },
     "user_tz": -480
    },
    "id": "5sXHTUhptqrX",
    "outputId": "9d5936ab-c828-4355-8b2c-880b74d3eb8c"
   },
   "outputs": [
    {
     "data": {
      "text/plain": [
       "Text(0.5, 1.0, 'Feature Importance : Random Forest ')"
      ]
     },
     "execution_count": 81,
     "metadata": {},
     "output_type": "execute_result"
    },
    {
     "data": {
      "image/png": "[encoded data removed]",
      "text/plain": [
       "<Figure size 432x288 with 1 Axes>"
      ]
     },
     "metadata": {
      "needs_background": "light"
     },
     "output_type": "display_data"
    }
   ],
   "source": [
    "feat_importances = pd.Series(rc.feature_importances_, index=X.columns)\n",
    "feat_importances.nlargest(20).plot(kind='barh')\n",
    "plt.title('Feature Importance : Random Forest ')"
   ]
  },
  {
   "cell_type": "code",
   "execution_count": 82,
   "metadata": {
    "executionInfo": {
     "elapsed": 47,
     "status": "aborted",
     "timestamp": 1636333190816,
     "user": {
      "displayName": "Haresh",
      "photoUrl": "https://lh3.googleusercontent.com/a-/AOh14GgoXsUrwqrdYieaCTJs4eifEU7OEbL4VqCuKgzY=s64",
      "userId": "03605754073230125307"
     },
     "user_tz": -480
    },
    "id": "5flQcbDkZrWm",
    "outputId": "34d84259-7d58-4ca3-87c2-1dd834f5254b"
   },
   "outputs": [
    {
     "data": {
      "text/plain": [
       "Text(0.5, 1.0, 'Feature Importance : improved XGB ')"
      ]
     },
     "execution_count": 82,
     "metadata": {},
     "output_type": "execute_result"
    },
    {
     "data": {
      "image/png": "[encoded data removed]",
      "text/plain": [
       "<Figure size 432x288 with 1 Axes>"
      ]
     },
     "metadata": {
      "needs_background": "light"
     },
     "output_type": "display_data"
    }
   ],
   "source": [
    "feat_importances = pd.Series(improved_xgb.feature_importances_, index=X.columns)\n",
    "feat_importances.nlargest(20).plot(kind='barh')\n",
    "plt.title('Feature Importance : improved XGB ')"
   ]
  },
  {
   "cell_type": "markdown",
   "metadata": {
    "id": "IZXYIO9VvIom"
   },
   "source": [
    "# FULL METRICS SUMMARY"
   ]
  },
  {
   "cell_type": "code",
   "execution_count": 83,
   "metadata": {
    "id": "_hcsIZ6JvNtz"
   },
   "outputs": [
    {
     "name": "stdout",
     "output_type": "stream",
     "text": [
      "Logistic regression: 0.7375      f1 score: 0.68  recall: 0.6471\n",
      "naive bayes:       0.8250       f1 score: 0.76 reacall: 0.6471\n",
      "Random forest Acurracy: 0.8125   f1 score: 0.75        recall: 0.6471\n",
      "XGBOOST:             0.8000                 f1 score: 0.74   recall: 0.6765\n",
      "Hyperparameter tuned XGBOOST:  0.7750 f1 score: 0.75 recall: 0.7941\n"
     ]
    }
   ],
   "source": [
    "\n",
    "print('Logistic regression: {:.4f} '.format(lg_score) ,'    f1 score: {:.2f} '.format(f1_score(y_test,pre)),'recall: {:.4f}'.format(recall_score(y_test,pre)))\n",
    "#print('svmlinear:             ',svm_accuracies,'   f1 score:', f1_score(y_test,pre1),'precision:',recall_score(y_test,pre1))\n",
    "print('naive bayes:       {:.4f}    '.format(nb_scores),'  f1 score: {:.2f}'.format(f1_score(y_test,pre4)),'reacall: {:.4f}'.format(recall_score(y_test,pre4)))\n",
    "#print('Decision tress:        ',dtc_accuracies,'  f1 score:',f1_score(y_test,pre5),'precision:',recall_score(y_test,pre5))\n",
    "print('Random forest Acurracy: {:.4f}'.format(rc_scores), '  f1 score: {:.2f}'.format(f1_score(y_test,pre6)),'       recall: {:.4f}'.format(recall_score(y_test,pre6)))\n",
    "print('XGBOOST:             {:.4f}  '.format(xgb_score),'              f1 score: {:.2f}'.format(f1_score(y_test,pre7)),'  recall: {:.4f}'.format(recall_score(y_test,pre7)))\n",
    "print('Hyperparameter tuned XGBOOST:  {:.4f}'.format(improved_xgb_score) ,'f1 score: {:.2f}'.format(f1_score(y_test,improved_xgb_preds)),'recall: {:.4f}'.format(recall_score(y_test,improved_xgb_preds)))"
   ]
  },
  {
   "cell_type": "code",
   "execution_count": null,
   "metadata": {
    "id": "CBn9NF3TvOVZ"
   },
   "outputs": [],
   "source": []
  },
  {
   "cell_type": "markdown",
   "metadata": {
    "id": "B6exmsJMN4-L"
   },
   "source": [
    "# CONFUSION MATRIX"
   ]
  },
  {
   "cell_type": "code",
   "execution_count": 84,
   "metadata": {
    "id": "Y9c4jeJkSgvt"
   },
   "outputs": [
    {
     "data": {
      "image/png": "[encoded data removed]",
      "text/plain": [
       "<Figure size 2160x2160 with 10 Axes>"
      ]
     },
     "metadata": {
      "needs_background": "light"
     },
     "output_type": "display_data"
    }
   ],
   "source": [
    "fig = plt.figure(figsize=(30\n",
    "                          ,30))\n",
    "ax1 = fig.add_subplot(431)\n",
    "ax2 = fig.add_subplot(432)\n",
    "ax3 = fig.add_subplot(433)\n",
    "ax4 = fig.add_subplot(434)\n",
    "ax5 = fig.add_subplot(435)\n",
    "\n",
    "ax1.title.set_text('LOGISTIC REGRESSION')\n",
    "\n",
    "ax2.title.set_text('NAIVE BAYES')\n",
    "\n",
    "ax3.title.set_text('RANDOM FOREST CLASSIFIER')\n",
    "ax4.title.set_text('XGBOOST')\n",
    "ax5.title.set_text(' HYPER PARAMETER TUNED XGBOOST')\n",
    "plot_confusion_matrix(improved_xgb,X_test,y_test,ax=ax2)\n",
    "\n",
    "plot_confusion_matrix(xgb_model,X_test,y_test,ax=ax4)\n",
    "\n",
    "plot_confusion_matrix(rc,X_test,y_test,ax=ax5)\n",
    "\n",
    "plot_confusion_matrix(gb,X_test,y_test,ax=ax3)\n",
    "\n",
    "plot_confusion_matrix(lg,X_test,y_test,ax=ax1)\n",
    "plt.show()"
   ]
  },
  {
   "cell_type": "code",
   "execution_count": null,
   "metadata": {
    "id": "InFr9G3TN8yv"
   },
   "outputs": [],
   "source": []
  },
  {
   "cell_type": "markdown",
   "metadata": {
    "id": "9p7b-iVw2h4D"
   },
   "source": [
    "# CODE AS A TOOL"
   ]
  },
  {
   "cell_type": "code",
   "execution_count": 85,
   "metadata": {},
   "outputs": [],
   "source": [
    "#Sample company IDs to try: AEE,DFS"
   ]
  },
  {
   "cell_type": "code",
   "execution_count": 86,
   "metadata": {
    "id": "mrnWcxSV2mH4"
   },
   "outputs": [
    {
     "name": "stdout",
     "output_type": "stream",
     "text": [
      "Enter company ID: \n",
      "AEE\n",
      "\n",
      "Company Information: \n",
      "SECTOR  -  Utilities\n",
      "CITY  -  Saint Louis\n",
      "INDUSTRY  -  Utilities—Regulated Electric\n",
      "\n",
      "Stock Behaviour: \n"
     ]
    },
    {
     "data": {
      "image/png": "[encoded data removed]",
      "text/plain": [
       "<Figure size 432x288 with 1 Axes>"
      ]
     },
     "metadata": {
      "needs_background": "light"
     },
     "output_type": "display_data"
    },
    {
     "name": "stdout",
     "output_type": "stream",
     "text": [
      "COVID Dependancy:  0\n"
     ]
    }
   ],
   "source": [
    "print(\"Enter company ID: \")\n",
    "ID=input()\n",
    "\n",
    "print(\"\\nCompany Information: \")\n",
    "\n",
    "i=0\n",
    "for COL in data:\n",
    "    if(i<3):\n",
    "        print(COL.upper(),\" - \",data.loc[ID][COL])\n",
    "    i+=1\n",
    "    \n",
    "print(\"\\nStock Behaviour: \")\n",
    "listvar=[data.loc[ID]['15/3/2020 0:00'],data.loc[ID]['10/4/2020 0:00'],data.loc[ID]['10/5/2020 0:00'],data.loc[ID]['10/9/2020 0:00'],data.loc[ID]['1/1/2021 0:00'],data.loc[ID]['20/2/2021 0:00'],data.loc[ID]['15/5/2021 0:00'],data.loc[ID]['10/9/2021 0:00']]\n",
    "listvar\n",
    "\n",
    "x=[43905,43931,43961,44084,44197,44247,44331,44449]\n",
    "\n",
    "maxval=max(listvar)\n",
    "\n",
    "img = plt.imread(\"COVIDUS.jpg\")\n",
    "fig, ax = plt.subplots()\n",
    "\n",
    "\n",
    "ax.imshow(img, extent=[43905, 44449, 0,300])\n",
    "p1 = ax.plot(x,listvar)\n",
    "\n",
    "ax.axvline(x=44025,color='grey', linewidth=0.8)\n",
    "ax.axvline(x=43930,color='grey', linewidth=0.8)\n",
    "ax.axvline(x=44120,color='grey', linewidth=0.8)\n",
    "ax.axvline(x=44331,color='grey', linewidth=0.8)\n",
    "ax.set_ylabel('Stock Price')\n",
    "ax.set_title('STOCK vs DATE')\n",
    "ax.set_xticklabels(('Mar-20',\n",
    "'Mar-20',\n",
    "'Jul-20',\n",
    "'Oct-20',\n",
    "'Jan-21',\n",
    "'Apr-21',\n",
    "'Jul-21'))\n",
    "\n",
    "plt.show()\n",
    "\n",
    "print(\"COVID Dependancy: \",data.loc[ID]['CLASS'])\n",
    "\n"
   ]
  },
  {
   "cell_type": "code",
   "execution_count": null,
   "metadata": {},
   "outputs": [],
   "source": []
  }
 ],
 "metadata": {
  "colab": {
   "collapsed_sections": [
    "FuLRefZjHxI6",
    "8WU00xMGopu-",
    "IZXYIO9VvIom"
   ],
   "name": "Finals with univariate and multivariate.ipynb",
   "provenance": [],
   "toc_visible": true
  },
  "kernelspec": {
   "display_name": "Python 3",
   "language": "python",
   "name": "python3"
  },
  "language_info": {
   "codemirror_mode": {
    "name": "ipython",
    "version": 3
   },
   "file_extension": ".py",
   "mimetype": "text/x-python",
   "name": "python",
   "nbconvert_exporter": "python",
   "pygments_lexer": "ipython3",
   "version": "3.8.8"
  }
 },
 "nbformat": 4,
 "nbformat_minor": 1
}
